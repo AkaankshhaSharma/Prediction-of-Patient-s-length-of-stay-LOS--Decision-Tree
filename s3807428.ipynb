{
 "cells": [
  {
   "cell_type": "markdown",
   "metadata": {},
   "source": [
    "# Introduction\n",
    "\n",
    "The healthcare industry is confronted with ever-increasing difficulties. When economic constraints, the need to provide timely medical care, and the availability of hospital beds are considered, it's clear that healthcare will face significant challenges in the coming years.Although this problem has existed for a long time, the recent COVID-19 pandemic has brought it to the forefront.\n",
    "To face these challenges, hospitals must be able to predict Patient's length of stay(LOS) at the time of admission so that available  resources can be distributed efficiently.\n",
    "\n",
    "In this assignment, I'll build a Machine Learning model to predict the duration of a patient's stay. The total hospitalization time, from admission to discharge, is generally referred to as the patient's length of stay. Length of stay predictions are used in a variety of ways and are an extremely useful tool for resource planning.\n",
    "\n",
    "This ML model would predict whether a patient will be discharged from the hospital within 3 days (class 0) or stay for a longer time (4 days or more) (class 1) based on several features related to patient characteristics, conditions, drugs, services, hospital costs, and the patient's socioeconomic background.\n",
    "\n",
    "## Objective\n",
    "The aim of this project is to develope a machine learning model that can accurately predict whether a patient will be released from the hospital within three days (class 0) or will need to stay longer (4 days or more) (class 1).\n",
    "\n",
    "The steps mentioned below will be taken in order to achieve this goal. \n",
    "- Select the type of our ML problem which can be applied to the LoS prediction task.\n",
    "- Determine Performance/Evaluation metric and target value based on our goal.\n",
    "- Load the dataset,examine and pre process the dataset.\n",
    "- Perform Exploratory Data Analysis (EDA) on given dataset.\n",
    "- Select two Baseline models\n",
    "- Train,test and evaluate the models\n",
    "- Comapre the performance of the baseline models and choose the best model to predict the result on unseen data(test data).\n",
    "\n",
    "## Dataset\n",
    "The original data is from from [HealthData: Hospital Inpatient Discharges (SPARCS De-Identified)].\n",
    "The data is used in this assignement is based on original data with some modifications.\n",
    "The dataset consits of newborn pateints admitted to the hospital. \n",
    "The datasets used in this assignment are:\n",
    "• “train_data.csv”: Contain the train set, attributes and target for each patient.\n",
    "This data is to be used in developing the models.\n",
    "• “test_data.csv”: Contain the test set, attributes for each patient. This dataset is used to \n",
    "make predictions for unseen data.\n",
    "• “s3807428_predictions.csv”: This dataset contains the predictions on\n",
    "the unseen test data.\n",
    "\n",
    "The columns of the original dataset are:\n",
    " \n",
    " Input Variables:\n",
    "  1. ID - Unique number to represent patient ID.\n",
    "  2. HealthServiceArea - A description of the Health Service Area (HSA) in which the hospital is located.      \n",
    "     Capital/Adirondack, Central NY, Finger   Lakes, Hudson Valley, Long Island, New York City, Southern Tier, Western NY.\n",
    "  3. Gender - Patient gender:   (M) Male, (F) Female, (U) Unknown.\n",
    "  4. Race - Patient race. Black/African American, Multi, Other Race, Unknown, White. Other Race   includes Native Americans      and Asian/Pacific Islander.\n",
    "  5. TypeOfAdmission -  A description of   the manner in which the patient was admitted to the health care facility:     \n",
    "     Elective, Emergency, Newborn, Not Available, Trauma, Urgent.\n",
    "  6. CCSProcedureCode - AHRQ Clinical Classification Software (CCS) ICD-9 Procedure Category Code\n",
    "  7. APRSeverityOfIllnessCode - All Patient  Refined Severity of Illness (APR SOI) Description: Minor (1), Moderate (2),     \n",
    "     Major (3), Extreme (4).\n",
    "  8. PaymentTypology - A description of the type of payment for this occurrence.\n",
    "  9. BirthWeight - The neonate birth weight in grams; rounded to nearest 100g.\n",
    "  10. EmergencyDepartmentIndicator - Emergency Department Indicator is set based on the submitted revenue codes.If the   \n",
    "     record contained an Emergency Department revenue code of 045X, the indicator is set to \"Y\", otherwise it will be “N”.\n",
    "  11. AverageCostInCounty - Average hospitalization Cost In County of the patient.\n",
    "  12. AverageChargesInCounty - Average medical Charges In County of the patient.\n",
    "  13. AverageCostInFacility - Average Cost In Facility.\n",
    "  14. AverageChargesInFacility - Average Charges In Facility.\n",
    "  15. AverageIncomeInZipCode - Average Income In Zip Code.\n",
    " \n",
    " Output Variable(desired target):\n",
    "  16. LengthOfStay - The total number  of patient days at an acute level and/or other than acute care level.\n",
    "      class code (0=LengthOfStay < 4, 1= LengthOfStay >= 4). "
   ]
  },
  {
   "cell_type": "markdown",
   "metadata": {},
   "source": [
    "# Problem Formulation\n",
    "The task in the Length of Stay (LOS) dataset is to predict the patient's lengh of stay(LengthOfStay), using all the attributes of the patient. This prediction problem can be identified as a classification task with two classes class 0 and class 1.  "
   ]
  },
  {
   "cell_type": "markdown",
   "metadata": {},
   "source": [
    "# Load the dataset to Python Notebook and pre-process\n",
    "Fist, import the required pacakges that will be used for data loading and analysis.\n",
    "For loading the dataset,Pandas a Python package, is used, Matplotlib for data visualisation and Numpy, a numeric library, for matrcis and mathematical functionality.\n"
   ]
  },
  {
   "cell_type": "code",
   "execution_count": 4,
   "metadata": {},
   "outputs": [],
   "source": [
    "import pandas as pd\n",
    "import matplotlib.pyplot as plt\n",
    "import numpy as np\n",
    "import seaborn as sns"
   ]
  },
  {
   "cell_type": "markdown",
   "metadata": {},
   "source": [
    "I used pandas to load theLength of stay train_data e dataset"
   ]
  },
  {
   "cell_type": "code",
   "execution_count": 8,
   "metadata": {},
   "outputs": [],
   "source": [
    "LosTrainData = pd.read_csv('train_data.csv', delimiter=',')"
   ]
  },
  {
   "cell_type": "markdown",
   "metadata": {},
   "source": [
    "The dataset is available at path ./Assignment1/train_data.csv'.\n",
    "The read_csv() function loads the input file, which which is a csv formatted file delimited by comma, into a pandas dataframe.\n",
    "Next, check the content of the loaded dataframe LosTrainData"
   ]
  },
  {
   "cell_type": "code",
   "execution_count": 10,
   "metadata": {},
   "outputs": [
    {
     "name": "stdout",
     "output_type": "stream",
     "text": [
      "          ID HealthServiceArea Gender                    Race TypeOfAdmission  \\\n",
      "0          1     New York City      F              Other Race         Newborn   \n",
      "1          2     New York City      M  Black/African American         Newborn   \n",
      "2          3     New York City      M              Other Race         Newborn   \n",
      "3          4     New York City      F              Other Race         Newborn   \n",
      "4          5     New York City      F              Other Race         Newborn   \n",
      "...      ...               ...    ...                     ...             ...   \n",
      "59961  59962        Western NY      M  Black/African American         Newborn   \n",
      "59962  59963        Western NY      M                   White         Newborn   \n",
      "59963  59964        Western NY      M                   White         Newborn   \n",
      "59964  59965        Western NY      M                   White         Newborn   \n",
      "59965  59966        Western NY      F                   White         Newborn   \n",
      "\n",
      "       CCSProcedureCode  APRSeverityOfIllnessCode           PaymentTypology  \\\n",
      "0                   228                         1                  Medicaid   \n",
      "1                   228                         1                  Medicaid   \n",
      "2                   220                         1  Private Health Insurance   \n",
      "3                     0                         1  Private Health Insurance   \n",
      "4                   228                         1                  Medicaid   \n",
      "...                 ...                       ...                       ...   \n",
      "59961               115                         1    Blue Cross/Blue Shield   \n",
      "59962               115                         2    Blue Cross/Blue Shield   \n",
      "59963               115                         2    Blue Cross/Blue Shield   \n",
      "59964                -1                         2                  Medicaid   \n",
      "59965               231                         2    Blue Cross/Blue Shield   \n",
      "\n",
      "       BirthWeight EmergencyDepartmentIndicator  AverageCostInCounty  \\\n",
      "0             3700                            N                 2611   \n",
      "1             2900                            N                 3242   \n",
      "2             3200                            N                 3155   \n",
      "3             3300                            N                 3155   \n",
      "4             2600                            N                 2611   \n",
      "...            ...                          ...                  ...   \n",
      "59961         3600                            N                 1826   \n",
      "59962         3300                            N                 1826   \n",
      "59963         3400                            N                 1826   \n",
      "59964         3100                            N                 1826   \n",
      "59965         3900                            N                 1826   \n",
      "\n",
      "       AverageChargesInCounty  AverageCostInFacility  \\\n",
      "0                        9227                   1751   \n",
      "1                        8966                   3338   \n",
      "2                       11381                   4980   \n",
      "3                       11381                   5826   \n",
      "4                        9227                   6000   \n",
      "...                       ...                    ...   \n",
      "59961                    4190                   1551   \n",
      "59962                    4190                   1551   \n",
      "59963                    4190                   1551   \n",
      "59964                    4190                   1551   \n",
      "59965                    4190                   1551   \n",
      "\n",
      "       AverageChargesInFacility  AverageIncomeInZipCode  LengthOfStay  \n",
      "0                          8951                      45             1  \n",
      "1                          6409                      34             1  \n",
      "2                          9323                      45             1  \n",
      "3                         15680                      59             1  \n",
      "4                         14344                      59             1  \n",
      "...                         ...                     ...           ...  \n",
      "59961                      3715                      36             4  \n",
      "59962                      3715                      55             6  \n",
      "59963                      3715                      55             4  \n",
      "59964                      3715                      55             4  \n",
      "59965                      3715                      36             4  \n",
      "\n",
      "[59966 rows x 16 columns]\n"
     ]
    }
   ],
   "source": [
    "print(LosTrainData)"
   ]
  },
  {
   "cell_type": "markdown",
   "metadata": {},
   "source": [
    "As attribute ID and HealthServiceArea are not required for this analysis, i will drop these column from the dataset."
   ]
  },
  {
   "cell_type": "code",
   "execution_count": 11,
   "metadata": {},
   "outputs": [],
   "source": [
    " LosTrainData.drop(columns=['ID', 'HealthServiceArea'],inplace=True)"
   ]
  },
  {
   "cell_type": "markdown",
   "metadata": {},
   "source": [
    "To validate if the attribute ID and HealthServiceArea are dropped, i will used head method to check the first 5 rows of the dataframe"
   ]
  },
  {
   "cell_type": "code",
   "execution_count": 12,
   "metadata": {},
   "outputs": [
    {
     "data": {
      "text/html": [
       "<div>\n",
       "<style scoped>\n",
       "    .dataframe tbody tr th:only-of-type {\n",
       "        vertical-align: middle;\n",
       "    }\n",
       "\n",
       "    .dataframe tbody tr th {\n",
       "        vertical-align: top;\n",
       "    }\n",
       "\n",
       "    .dataframe thead th {\n",
       "        text-align: right;\n",
       "    }\n",
       "</style>\n",
       "<table border=\"1\" class=\"dataframe\">\n",
       "  <thead>\n",
       "    <tr style=\"text-align: right;\">\n",
       "      <th></th>\n",
       "      <th>Gender</th>\n",
       "      <th>Race</th>\n",
       "      <th>TypeOfAdmission</th>\n",
       "      <th>CCSProcedureCode</th>\n",
       "      <th>APRSeverityOfIllnessCode</th>\n",
       "      <th>PaymentTypology</th>\n",
       "      <th>BirthWeight</th>\n",
       "      <th>EmergencyDepartmentIndicator</th>\n",
       "      <th>AverageCostInCounty</th>\n",
       "      <th>AverageChargesInCounty</th>\n",
       "      <th>AverageCostInFacility</th>\n",
       "      <th>AverageChargesInFacility</th>\n",
       "      <th>AverageIncomeInZipCode</th>\n",
       "      <th>LengthOfStay</th>\n",
       "    </tr>\n",
       "  </thead>\n",
       "  <tbody>\n",
       "    <tr>\n",
       "      <th>0</th>\n",
       "      <td>F</td>\n",
       "      <td>Other Race</td>\n",
       "      <td>Newborn</td>\n",
       "      <td>228</td>\n",
       "      <td>1</td>\n",
       "      <td>Medicaid</td>\n",
       "      <td>3700</td>\n",
       "      <td>N</td>\n",
       "      <td>2611</td>\n",
       "      <td>9227</td>\n",
       "      <td>1751</td>\n",
       "      <td>8951</td>\n",
       "      <td>45</td>\n",
       "      <td>1</td>\n",
       "    </tr>\n",
       "    <tr>\n",
       "      <th>1</th>\n",
       "      <td>M</td>\n",
       "      <td>Black/African American</td>\n",
       "      <td>Newborn</td>\n",
       "      <td>228</td>\n",
       "      <td>1</td>\n",
       "      <td>Medicaid</td>\n",
       "      <td>2900</td>\n",
       "      <td>N</td>\n",
       "      <td>3242</td>\n",
       "      <td>8966</td>\n",
       "      <td>3338</td>\n",
       "      <td>6409</td>\n",
       "      <td>34</td>\n",
       "      <td>1</td>\n",
       "    </tr>\n",
       "    <tr>\n",
       "      <th>2</th>\n",
       "      <td>M</td>\n",
       "      <td>Other Race</td>\n",
       "      <td>Newborn</td>\n",
       "      <td>220</td>\n",
       "      <td>1</td>\n",
       "      <td>Private Health Insurance</td>\n",
       "      <td>3200</td>\n",
       "      <td>N</td>\n",
       "      <td>3155</td>\n",
       "      <td>11381</td>\n",
       "      <td>4980</td>\n",
       "      <td>9323</td>\n",
       "      <td>45</td>\n",
       "      <td>1</td>\n",
       "    </tr>\n",
       "    <tr>\n",
       "      <th>3</th>\n",
       "      <td>F</td>\n",
       "      <td>Other Race</td>\n",
       "      <td>Newborn</td>\n",
       "      <td>0</td>\n",
       "      <td>1</td>\n",
       "      <td>Private Health Insurance</td>\n",
       "      <td>3300</td>\n",
       "      <td>N</td>\n",
       "      <td>3155</td>\n",
       "      <td>11381</td>\n",
       "      <td>5826</td>\n",
       "      <td>15680</td>\n",
       "      <td>59</td>\n",
       "      <td>1</td>\n",
       "    </tr>\n",
       "    <tr>\n",
       "      <th>4</th>\n",
       "      <td>F</td>\n",
       "      <td>Other Race</td>\n",
       "      <td>Newborn</td>\n",
       "      <td>228</td>\n",
       "      <td>1</td>\n",
       "      <td>Medicaid</td>\n",
       "      <td>2600</td>\n",
       "      <td>N</td>\n",
       "      <td>2611</td>\n",
       "      <td>9227</td>\n",
       "      <td>6000</td>\n",
       "      <td>14344</td>\n",
       "      <td>59</td>\n",
       "      <td>1</td>\n",
       "    </tr>\n",
       "  </tbody>\n",
       "</table>\n",
       "</div>"
      ],
      "text/plain": [
       "  Gender                    Race TypeOfAdmission  CCSProcedureCode  \\\n",
       "0      F              Other Race         Newborn               228   \n",
       "1      M  Black/African American         Newborn               228   \n",
       "2      M              Other Race         Newborn               220   \n",
       "3      F              Other Race         Newborn                 0   \n",
       "4      F              Other Race         Newborn               228   \n",
       "\n",
       "   APRSeverityOfIllnessCode           PaymentTypology  BirthWeight  \\\n",
       "0                         1                  Medicaid         3700   \n",
       "1                         1                  Medicaid         2900   \n",
       "2                         1  Private Health Insurance         3200   \n",
       "3                         1  Private Health Insurance         3300   \n",
       "4                         1                  Medicaid         2600   \n",
       "\n",
       "  EmergencyDepartmentIndicator  AverageCostInCounty  AverageChargesInCounty  \\\n",
       "0                            N                 2611                    9227   \n",
       "1                            N                 3242                    8966   \n",
       "2                            N                 3155                   11381   \n",
       "3                            N                 3155                   11381   \n",
       "4                            N                 2611                    9227   \n",
       "\n",
       "   AverageCostInFacility  AverageChargesInFacility  AverageIncomeInZipCode  \\\n",
       "0                   1751                      8951                      45   \n",
       "1                   3338                      6409                      34   \n",
       "2                   4980                      9323                      45   \n",
       "3                   5826                     15680                      59   \n",
       "4                   6000                     14344                      59   \n",
       "\n",
       "   LengthOfStay  \n",
       "0             1  \n",
       "1             1  \n",
       "2             1  \n",
       "3             1  \n",
       "4             1  "
      ]
     },
     "execution_count": 12,
     "metadata": {},
     "output_type": "execute_result"
    }
   ],
   "source": [
    "LosTrainData.head(5)"
   ]
  },
  {
   "cell_type": "markdown",
   "metadata": {},
   "source": [
    "As our task is to Predict if a given patient (i.e. newborn child) will be discharged from the hospital within 3 days (class 0) or will stay in hospital\n",
    "beyond that - 4 days or more (class 1)”.\n",
    "Let's check all the values for target LengthOfStay variable. For this, I have used display method to print the values."
   ]
  },
  {
   "cell_type": "code",
   "execution_count": 13,
   "metadata": {},
   "outputs": [
    {
     "data": {
      "text/plain": [
       "0        1\n",
       "1        1\n",
       "2        1\n",
       "3        1\n",
       "4        1\n",
       "        ..\n",
       "59961    4\n",
       "59962    6\n",
       "59963    4\n",
       "59964    4\n",
       "59965    4\n",
       "Name: LengthOfStay, Length: 59966, dtype: int64"
      ]
     },
     "metadata": {},
     "output_type": "display_data"
    }
   ],
   "source": [
    "display(LosTrainData['LengthOfStay'])"
   ]
  },
  {
   "cell_type": "markdown",
   "metadata": {},
   "source": [
    "Next, transform the target variable LengthOfStay to class 0 if value is < 4 and to class 1 if length of stay is 4 or more.\n",
    "I have used Numpy package's where condition to validation the values and replace them to their respective class."
   ]
  },
  {
   "cell_type": "code",
   "execution_count": 14,
   "metadata": {},
   "outputs": [],
   "source": [
    "LosTrainData['LengthOfStay'] = np.where(LosTrainData['LengthOfStay']<4, 0, 1)"
   ]
  },
  {
   "cell_type": "code",
   "execution_count": 15,
   "metadata": {},
   "outputs": [
    {
     "data": {
      "text/plain": [
       "0        0\n",
       "1        0\n",
       "2        0\n",
       "3        0\n",
       "4        0\n",
       "        ..\n",
       "59961    1\n",
       "59962    1\n",
       "59963    1\n",
       "59964    1\n",
       "59965    1\n",
       "Name: LengthOfStay, Length: 59966, dtype: int64"
      ]
     },
     "metadata": {},
     "output_type": "display_data"
    }
   ],
   "source": [
    "display(LosTrainData['LengthOfStay'])"
   ]
  },
  {
   "cell_type": "markdown",
   "metadata": {},
   "source": [
    "As, I have loaded the data into dataframe and transformed it as per the requirement, next i will perfom some basic statistics \n",
    "on LosTrainData dataframe to understand the variables carefully."
   ]
  },
  {
   "cell_type": "markdown",
   "metadata": {},
   "source": [
    "# Exploratory Data Analysis (EDA)\n",
    "EDA is a critical process to perform initial investigations on data to gain maximize insight, examine the underlying data structure,detect the outliers with the help of summary satistics and graphical representations.\n",
    "\n",
    "Let's see the shape of the dataframe using the shape command."
   ]
  },
  {
   "cell_type": "code",
   "execution_count": 16,
   "metadata": {},
   "outputs": [
    {
     "data": {
      "text/plain": [
       "(59966, 14)"
      ]
     },
     "execution_count": 16,
     "metadata": {},
     "output_type": "execute_result"
    }
   ],
   "source": [
    "LosTrainData.shape"
   ]
  },
  {
   "cell_type": "markdown",
   "metadata": {},
   "source": [
    "The dataframe LosTrainData has 59966 observations and 14 variables\n",
    "Next, check the columns and their corresponding data types, along with null values. pnadas info method is used get the information about the dataframe"
   ]
  },
  {
   "cell_type": "code",
   "execution_count": 17,
   "metadata": {},
   "outputs": [
    {
     "name": "stdout",
     "output_type": "stream",
     "text": [
      "<class 'pandas.core.frame.DataFrame'>\n",
      "RangeIndex: 59966 entries, 0 to 59965\n",
      "Data columns (total 14 columns):\n",
      " #   Column                        Non-Null Count  Dtype \n",
      "---  ------                        --------------  ----- \n",
      " 0   Gender                        59966 non-null  object\n",
      " 1   Race                          59966 non-null  object\n",
      " 2   TypeOfAdmission               59966 non-null  object\n",
      " 3   CCSProcedureCode              59966 non-null  int64 \n",
      " 4   APRSeverityOfIllnessCode      59966 non-null  int64 \n",
      " 5   PaymentTypology               59966 non-null  object\n",
      " 6   BirthWeight                   59966 non-null  int64 \n",
      " 7   EmergencyDepartmentIndicator  59966 non-null  object\n",
      " 8   AverageCostInCounty           59966 non-null  int64 \n",
      " 9   AverageChargesInCounty        59966 non-null  int64 \n",
      " 10  AverageCostInFacility         59966 non-null  int64 \n",
      " 11  AverageChargesInFacility      59966 non-null  int64 \n",
      " 12  AverageIncomeInZipCode        59966 non-null  int64 \n",
      " 13  LengthOfStay                  59966 non-null  int64 \n",
      "dtypes: int64(9), object(5)\n",
      "memory usage: 6.4+ MB\n"
     ]
    }
   ],
   "source": [
    "LosTrainData.info()"
   ]
  },
  {
   "cell_type": "markdown",
   "metadata": {},
   "source": [
    "Let's compute the summary statistics of the dataframe LosTrainData by using pandas describe() function returns the count, mean, standard deviation, minimum and maximum values and the quantiles of the data"
   ]
  },
  {
   "cell_type": "code",
   "execution_count": 18,
   "metadata": {},
   "outputs": [
    {
     "data": {
      "text/html": [
       "<div>\n",
       "<style scoped>\n",
       "    .dataframe tbody tr th:only-of-type {\n",
       "        vertical-align: middle;\n",
       "    }\n",
       "\n",
       "    .dataframe tbody tr th {\n",
       "        vertical-align: top;\n",
       "    }\n",
       "\n",
       "    .dataframe thead th {\n",
       "        text-align: right;\n",
       "    }\n",
       "</style>\n",
       "<table border=\"1\" class=\"dataframe\">\n",
       "  <thead>\n",
       "    <tr style=\"text-align: right;\">\n",
       "      <th></th>\n",
       "      <th>CCSProcedureCode</th>\n",
       "      <th>APRSeverityOfIllnessCode</th>\n",
       "      <th>BirthWeight</th>\n",
       "      <th>AverageCostInCounty</th>\n",
       "      <th>AverageChargesInCounty</th>\n",
       "      <th>AverageCostInFacility</th>\n",
       "      <th>AverageChargesInFacility</th>\n",
       "      <th>AverageIncomeInZipCode</th>\n",
       "      <th>LengthOfStay</th>\n",
       "    </tr>\n",
       "  </thead>\n",
       "  <tbody>\n",
       "    <tr>\n",
       "      <th>count</th>\n",
       "      <td>59966.000000</td>\n",
       "      <td>59966.000000</td>\n",
       "      <td>59966.000000</td>\n",
       "      <td>59966.000000</td>\n",
       "      <td>59966.000000</td>\n",
       "      <td>59966.000000</td>\n",
       "      <td>59966.000000</td>\n",
       "      <td>59966.000000</td>\n",
       "      <td>59966.000000</td>\n",
       "    </tr>\n",
       "    <tr>\n",
       "      <th>mean</th>\n",
       "      <td>155.404229</td>\n",
       "      <td>1.254594</td>\n",
       "      <td>3336.298903</td>\n",
       "      <td>2372.806690</td>\n",
       "      <td>7979.126922</td>\n",
       "      <td>2396.414318</td>\n",
       "      <td>7958.472668</td>\n",
       "      <td>59.811143</td>\n",
       "      <td>0.167945</td>\n",
       "    </tr>\n",
       "    <tr>\n",
       "      <th>std</th>\n",
       "      <td>89.541978</td>\n",
       "      <td>0.546207</td>\n",
       "      <td>446.244475</td>\n",
       "      <td>639.755096</td>\n",
       "      <td>3220.291347</td>\n",
       "      <td>1248.501189</td>\n",
       "      <td>3859.294711</td>\n",
       "      <td>21.470170</td>\n",
       "      <td>0.373821</td>\n",
       "    </tr>\n",
       "    <tr>\n",
       "      <th>min</th>\n",
       "      <td>-1.000000</td>\n",
       "      <td>1.000000</td>\n",
       "      <td>2500.000000</td>\n",
       "      <td>712.000000</td>\n",
       "      <td>1243.000000</td>\n",
       "      <td>457.000000</td>\n",
       "      <td>1120.000000</td>\n",
       "      <td>28.000000</td>\n",
       "      <td>0.000000</td>\n",
       "    </tr>\n",
       "    <tr>\n",
       "      <th>25%</th>\n",
       "      <td>115.000000</td>\n",
       "      <td>1.000000</td>\n",
       "      <td>3000.000000</td>\n",
       "      <td>2041.000000</td>\n",
       "      <td>4620.000000</td>\n",
       "      <td>1551.000000</td>\n",
       "      <td>4438.000000</td>\n",
       "      <td>45.000000</td>\n",
       "      <td>0.000000</td>\n",
       "    </tr>\n",
       "    <tr>\n",
       "      <th>50%</th>\n",
       "      <td>220.000000</td>\n",
       "      <td>1.000000</td>\n",
       "      <td>3300.000000</td>\n",
       "      <td>2533.000000</td>\n",
       "      <td>9227.000000</td>\n",
       "      <td>1967.000000</td>\n",
       "      <td>7945.000000</td>\n",
       "      <td>55.000000</td>\n",
       "      <td>0.000000</td>\n",
       "    </tr>\n",
       "    <tr>\n",
       "      <th>75%</th>\n",
       "      <td>228.000000</td>\n",
       "      <td>1.000000</td>\n",
       "      <td>3600.000000</td>\n",
       "      <td>2785.000000</td>\n",
       "      <td>10644.000000</td>\n",
       "      <td>2895.000000</td>\n",
       "      <td>11619.000000</td>\n",
       "      <td>74.000000</td>\n",
       "      <td>0.000000</td>\n",
       "    </tr>\n",
       "    <tr>\n",
       "      <th>max</th>\n",
       "      <td>231.000000</td>\n",
       "      <td>4.000000</td>\n",
       "      <td>7500.000000</td>\n",
       "      <td>3242.000000</td>\n",
       "      <td>11381.000000</td>\n",
       "      <td>8114.000000</td>\n",
       "      <td>18466.000000</td>\n",
       "      <td>115.000000</td>\n",
       "      <td>1.000000</td>\n",
       "    </tr>\n",
       "  </tbody>\n",
       "</table>\n",
       "</div>"
      ],
      "text/plain": [
       "       CCSProcedureCode  APRSeverityOfIllnessCode   BirthWeight  \\\n",
       "count      59966.000000              59966.000000  59966.000000   \n",
       "mean         155.404229                  1.254594   3336.298903   \n",
       "std           89.541978                  0.546207    446.244475   \n",
       "min           -1.000000                  1.000000   2500.000000   \n",
       "25%          115.000000                  1.000000   3000.000000   \n",
       "50%          220.000000                  1.000000   3300.000000   \n",
       "75%          228.000000                  1.000000   3600.000000   \n",
       "max          231.000000                  4.000000   7500.000000   \n",
       "\n",
       "       AverageCostInCounty  AverageChargesInCounty  AverageCostInFacility  \\\n",
       "count         59966.000000            59966.000000           59966.000000   \n",
       "mean           2372.806690             7979.126922            2396.414318   \n",
       "std             639.755096             3220.291347            1248.501189   \n",
       "min             712.000000             1243.000000             457.000000   \n",
       "25%            2041.000000             4620.000000            1551.000000   \n",
       "50%            2533.000000             9227.000000            1967.000000   \n",
       "75%            2785.000000            10644.000000            2895.000000   \n",
       "max            3242.000000            11381.000000            8114.000000   \n",
       "\n",
       "       AverageChargesInFacility  AverageIncomeInZipCode  LengthOfStay  \n",
       "count              59966.000000            59966.000000  59966.000000  \n",
       "mean                7958.472668               59.811143      0.167945  \n",
       "std                 3859.294711               21.470170      0.373821  \n",
       "min                 1120.000000               28.000000      0.000000  \n",
       "25%                 4438.000000               45.000000      0.000000  \n",
       "50%                 7945.000000               55.000000      0.000000  \n",
       "75%                11619.000000               74.000000      0.000000  \n",
       "max                18466.000000              115.000000      1.000000  "
      ]
     },
     "execution_count": 18,
     "metadata": {},
     "output_type": "execute_result"
    }
   ],
   "source": [
    "LosTrainData.describe()"
   ]
  },
  {
   "cell_type": "markdown",
   "metadata": {},
   "source": [
    "Observations:\n",
    "\n",
    "1. From above summary statistics , attribute APRSeverityOfIllnessCode is an Ordinal categorical variable which \n",
    "   takes values as Minor (1), Moderate (2),   Major (3), Extreme (4).\n",
    "2. variable CCSProcedureCode is having a negative value. \n",
    "3. Dataframe LosTrainData has both numerical and categorical data."
   ]
  },
  {
   "cell_type": "markdown",
   "metadata": {},
   "source": [
    "# Data Distribution\n",
    "As we have both categorical and numerical variables, Let's plot histogram to evaluate distribution of a variable.\n",
    "Matplotlib's hist() function is used to plot histogram."
   ]
  },
  {
   "cell_type": "code",
   "execution_count": 19,
   "metadata": {},
   "outputs": [
    {
     "data": {
      "image/png": "[encoded data removed]",
      "text/plain": [
       "<Figure size 1440x2160 with 14 Axes>"
      ]
     },
     "metadata": {
      "needs_background": "light"
     },
     "output_type": "display_data"
    }
   ],
   "source": [
    "plt.figure(figsize=(20,30))\n",
    "for i, col in enumerate(LosTrainData.columns):\n",
    "    plt.subplot(4,5,i+1)\n",
    "    plt.hist(LosTrainData[col], alpha=0.3, color='b', density=True)\n",
    "    plt.title(col)\n",
    "    plt.xticks(rotation='vertical')"
   ]
  },
  {
   "cell_type": "markdown",
   "metadata": {},
   "source": [
    "Observations from above histogram distibution:\n",
    "\n",
    "1. Attributes Gender,Race,TypeOfAdmission and EmergencyDepartmentIndicator are categorical variable.\n",
    "2. Majority of Gender data instances are Male with just a single unknow gender.\n",
    "3. Attribute Race's most of the data instances are for white with very few instances are from bi-racial\n",
    "4. Majority of TypeOfAdmission data instances are for newborn with very few data instances are for rest of the values.\n",
    "5. Most of the data instances for APRSeverityOfIllnessCode are from class 1(minor) with no data instances from class 4(Extreme).\n",
    "6. Majority of EmergencyDepartmentIndicator data instances are from class N with very few instances are from class Y.\n",
    "7. CCSProcedureCode is a categorical variable.\n",
    "8. variables AverageCostInFacility,AverageIncomeInZipCode are skewed\n",
    "9. Majority of Target Varoable LengthOfStay data instances are from class 0 with very few data instances are from class 1.\n",
    "10. APRSeverityOfIllnessCode is an ordinal categorical variable."
   ]
  },
  {
   "cell_type": "markdown",
   "metadata": {},
   "source": [
    "As our task is to predict Length of stay(target variable) using all the other attribute,Lets use a box plot to observe our target variable LengthOfStay against other numerical variable and\n",
    "examine for any possible outliers.\n",
    "The boxplot() function is used to plot the boxplot."
   ]
  },
  {
   "cell_type": "code",
   "execution_count": 20,
   "metadata": {},
   "outputs": [
    {
     "data": {
      "image/png": "[encoded data removed]",
      "text/plain": [
       "<Figure size 1440x1440 with 8 Axes>"
      ]
     },
     "metadata": {
      "needs_background": "light"
     },
     "output_type": "display_data"
    }
   ],
   "source": [
    "plt.figure(figsize=(20,20))\n",
    "i=1\n",
    "for col in LosTrainData.columns:\n",
    "  \n",
    "  if LosTrainData[col].dtypes != 'object' and col!= 'LengthOfStay' :\n",
    "    plt.subplot(3,3,i)\n",
    "    sns.boxplot(x='LengthOfStay',y=col,data=LosTrainData)\n",
    "    i = i+1\n",
    "    plt.title(col)\n",
    "    \n",
    "plt.xticks(rotation='vertical')\n",
    "plt.show()"
   ]
  },
  {
   "cell_type": "markdown",
   "metadata": {},
   "source": [
    "Observations from above box plot\n",
    "1. CCSProcedureCode data instances are equally distributed amongest target variable LenghtOfStay class 0 and class 1.\n",
    "2. on average, BirthWeight data instances are equally distributed between target variable LenghtOfStay class 0 and class 1.\n",
    "   For BirthWeight data instances, the outliers are present in Both the class 0 and class 1. however, target variable    \n",
    "   LenghtOfStay class 1 some outliers which are beyond the \n",
    "3. There are outliers present in AverageCostInCountry and AverageCostInFacility.\n"
   ]
  },
  {
   "cell_type": "markdown",
   "metadata": {},
   "source": [
    "# Relationship between target variable LengthOfStay and other variables\n",
    "Let's plot the correlation matrix between target variable LengthOfStay and other numerical data using Seaborn,a Python data visualization library based on matplotlib."
   ]
  },
  {
   "cell_type": "code",
   "execution_count": 21,
   "metadata": {},
   "outputs": [
    {
     "data": {
      "image/png": "[encoded data removed]",
      "text/plain": [
       "<Figure size 792x648 with 2 Axes>"
      ]
     },
     "metadata": {
      "needs_background": "light"
     },
     "output_type": "display_data"
    }
   ],
   "source": [
    "f, ax = plt.subplots(figsize=(11, 9))\n",
    "corr = LosTrainData.corr()\n",
    "ax = sns.heatmap(\n",
    "    corr, \n",
    "    vmin=-1, vmax=1, center=0,\n",
    "    cmap=sns.diverging_palette(20, 220, n=200),\n",
    "    square=True\n",
    ")\n",
    "ax.set_xticklabels(\n",
    "    ax.get_xticklabels(),\n",
    "    rotation=90,\n",
    "    horizontalalignment='right'\n",
    ");"
   ]
  },
  {
   "cell_type": "markdown",
   "metadata": {},
   "source": [
    "Observations:\n",
    "1. Some attributes have high correlation between them. e.g. AverageChargesInFacility and AverageChargesInCounty, AverageChargesInCounty and AverageCostInCounty.\n",
    "2. APRSeverityOfIllnessCode has a positive correlation with the target variable LengthOfStay."
   ]
  },
  {
   "cell_type": "markdown",
   "metadata": {},
   "source": [
    "# Handle the missing values(unknown) in dataframe"
   ]
  },
  {
   "cell_type": "markdown",
   "metadata": {},
   "source": [
    "As per the above histogram, we can see that there are some missing(unknown) values are present in variable Gender and PaymentTypology.\n",
    "These are categorical variables so i will replace the unknown values('U') in Gender variable to mode values of Gender and 'Unknown' values to mode values of PaymentTypology in PaymentTypology variable."
   ]
  },
  {
   "cell_type": "code",
   "execution_count": 22,
   "metadata": {},
   "outputs": [
    {
     "data": {
      "text/plain": [
       "M    30978\n",
       "F    28987\n",
       "U        1\n",
       "Name: Gender, dtype: int64"
      ]
     },
     "execution_count": 22,
     "metadata": {},
     "output_type": "execute_result"
    }
   ],
   "source": [
    "LosTrainData['Gender'].value_counts()"
   ]
  },
  {
   "cell_type": "code",
   "execution_count": 23,
   "metadata": {},
   "outputs": [],
   "source": [
    "Mode_Gender = LosTrainData['Gender'].mode()[0]\n",
    "LosTrainData['Gender'].replace(\"U\",Mode_Gender,inplace=True)"
   ]
  },
  {
   "cell_type": "code",
   "execution_count": 24,
   "metadata": {},
   "outputs": [
    {
     "data": {
      "text/plain": [
       "M    30979\n",
       "F    28987\n",
       "Name: Gender, dtype: int64"
      ]
     },
     "execution_count": 24,
     "metadata": {},
     "output_type": "execute_result"
    }
   ],
   "source": [
    "LosTrainData['Gender'].value_counts()"
   ]
  },
  {
   "cell_type": "code",
   "execution_count": 25,
   "metadata": {},
   "outputs": [
    {
     "data": {
      "text/plain": [
       "Medicaid                     28723\n",
       "Private Health Insurance     15608\n",
       "Blue Cross/Blue Shield       12073\n",
       "Self-Pay                      1984\n",
       "Federal/State/Local/VA         849\n",
       "Managed Care, Unspecified      545\n",
       "Miscellaneous/Other            118\n",
       "Medicare                        44\n",
       "Unknown                         22\n",
       "Name: PaymentTypology, dtype: int64"
      ]
     },
     "execution_count": 25,
     "metadata": {},
     "output_type": "execute_result"
    }
   ],
   "source": [
    "LosTrainData['PaymentTypology'].value_counts()"
   ]
  },
  {
   "cell_type": "code",
   "execution_count": 26,
   "metadata": {},
   "outputs": [],
   "source": [
    "Mode_PaymentTypology = LosTrainData['PaymentTypology'].mode()[0]\n",
    "LosTrainData['PaymentTypology'].replace(\"Unknown\",Mode_PaymentTypology,inplace=True)"
   ]
  },
  {
   "cell_type": "code",
   "execution_count": 27,
   "metadata": {},
   "outputs": [
    {
     "data": {
      "text/plain": [
       "Medicaid                     28745\n",
       "Private Health Insurance     15608\n",
       "Blue Cross/Blue Shield       12073\n",
       "Self-Pay                      1984\n",
       "Federal/State/Local/VA         849\n",
       "Managed Care, Unspecified      545\n",
       "Miscellaneous/Other            118\n",
       "Medicare                        44\n",
       "Name: PaymentTypology, dtype: int64"
      ]
     },
     "execution_count": 27,
     "metadata": {},
     "output_type": "execute_result"
    }
   ],
   "source": [
    "LosTrainData['PaymentTypology'].value_counts()"
   ]
  },
  {
   "cell_type": "markdown",
   "metadata": {},
   "source": [
    "# Data Encoding\n",
    "Based on EDA, dataframe have some nominal categorical attributes which are Gender,Race,TypeOfAdmission,PaymentTypology,CCSProcedureCode,CCSProcedureCode and EmergencyDepartmentIndicator and an ordinal categorical variable APRSeverityOfIllnessCode.\n",
    "sklearn’s classification doen't work with categorical attributes.It only works with continuous numeric attributes. The target class, however, must be categorical.So the categorical attributed must be converted into a suitable continuous format.\n",
    "Let's use one hot encoding technique to convert our all nominal categorical variable values to continuous format.\n"
   ]
  },
  {
   "cell_type": "code",
   "execution_count": 28,
   "metadata": {},
   "outputs": [
    {
     "name": "stdout",
     "output_type": "stream",
     "text": [
      "(59966, 2) [array(['F', 'M'], dtype=object)]\n",
      "(59966, 4) [array(['Black/African American', 'Multi-racial', 'Other Race', 'White'],\n",
      "      dtype=object)]\n",
      "(59966, 4) [array(['Elective', 'Emergency', 'Newborn', 'Urgent'], dtype=object)]\n",
      "(59966, 8) [array(['Blue Cross/Blue Shield', 'Federal/State/Local/VA',\n",
      "       'Managed Care, Unspecified', 'Medicaid', 'Medicare',\n",
      "       'Miscellaneous/Other', 'Private Health Insurance', 'Self-Pay'],\n",
      "      dtype=object)]\n",
      "(59966, 7) [array([ -1,   0, 115, 216, 220, 228, 231])]\n",
      "(59966, 2) [array(['N', 'Y'], dtype=object)]\n"
     ]
    }
   ],
   "source": [
    "from sklearn.preprocessing import OneHotEncoder\n",
    "\n",
    "OneHotEncoder_Gender = OneHotEncoder(handle_unknown='ignore')\n",
    "OneHotEncoder_Gender.fit(LosTrainData[['Gender']])\n",
    "onehot_Gender = OneHotEncoder_Gender.transform(LosTrainData[['Gender']]).toarray()\n",
    "\n",
    "OneHotEncoder_Race = OneHotEncoder(handle_unknown='ignore')\n",
    "OneHotEncoder_Race.fit(LosTrainData[['Race']])\n",
    "onehot_Race = OneHotEncoder_Race.transform(LosTrainData[['Race']]).toarray()\n",
    "\n",
    "OneHotEncoder_TypeOfAdmission = OneHotEncoder(handle_unknown='ignore')\n",
    "OneHotEncoder_TypeOfAdmission.fit(LosTrainData[['TypeOfAdmission']])\n",
    "onehot_TypeOfAdmission = OneHotEncoder_TypeOfAdmission.transform(LosTrainData[['TypeOfAdmission']]).toarray()\n",
    "\n",
    "OneHotEncoder_PaymentTypology = OneHotEncoder(handle_unknown='ignore')\n",
    "OneHotEncoder_PaymentTypology.fit(LosTrainData[['PaymentTypology']])\n",
    "onehot_PaymentTypology = OneHotEncoder_PaymentTypology.transform(LosTrainData[['PaymentTypology']]).toarray()\n",
    "\n",
    "OneHotEncoder_CCSProcedureCode = OneHotEncoder(handle_unknown='ignore')\n",
    "OneHotEncoder_CCSProcedureCode.fit(LosTrainData[['CCSProcedureCode']])\n",
    "onehot_CCSProcedureCode = OneHotEncoder_CCSProcedureCode.transform(LosTrainData[['CCSProcedureCode']]).toarray()\n",
    "\n",
    "OneHotEncoder_EmergencyDepartmentIndicator = OneHotEncoder(handle_unknown='ignore')\n",
    "OneHotEncoder_EmergencyDepartmentIndicator.fit(LosTrainData[['EmergencyDepartmentIndicator']])\n",
    "onehot_EmergencyDepartmentIndicator = OneHotEncoder_EmergencyDepartmentIndicator.transform(LosTrainData[['EmergencyDepartmentIndicator']]).toarray()\n",
    "\n",
    "\n",
    "print(onehot_Gender.shape, OneHotEncoder_Gender.categories_)\n",
    "print(onehot_Race.shape, OneHotEncoder_Race.categories_)\n",
    "print(onehot_TypeOfAdmission.shape, OneHotEncoder_TypeOfAdmission.categories_)\n",
    "print(onehot_PaymentTypology.shape, OneHotEncoder_PaymentTypology.categories_)\n",
    "print(onehot_CCSProcedureCode.shape, OneHotEncoder_CCSProcedureCode.categories_)\n",
    "print(onehot_EmergencyDepartmentIndicator.shape, OneHotEncoder_EmergencyDepartmentIndicator.categories_)\n"
   ]
  },
  {
   "cell_type": "markdown",
   "metadata": {},
   "source": [
    "Now, Let's put these columns back to the dataframe."
   ]
  },
  {
   "cell_type": "code",
   "execution_count": 29,
   "metadata": {},
   "outputs": [],
   "source": [
    "colName1 = 'Gender'\n",
    "for i in range(len(OneHotEncoder_Gender.categories_[0])):\n",
    "    LosTrainData[colName1 + '_' + str(OneHotEncoder_Gender.categories_[0][i])] = onehot_Gender[:,i]"
   ]
  },
  {
   "cell_type": "code",
   "execution_count": 30,
   "metadata": {},
   "outputs": [],
   "source": [
    "colName2 = 'Race'\n",
    "for i in range(len(OneHotEncoder_Race.categories_[0])):\n",
    "    LosTrainData[colName2 + '_' + str(OneHotEncoder_Race.categories_[0][i])] = onehot_Race[:,i]"
   ]
  },
  {
   "cell_type": "code",
   "execution_count": 31,
   "metadata": {},
   "outputs": [],
   "source": [
    "colName3 = 'TypeOfAdmission'\n",
    "for i in range(len(OneHotEncoder_TypeOfAdmission.categories_[0])):\n",
    "    LosTrainData[colName3 + '_' + str(OneHotEncoder_TypeOfAdmission.categories_[0][i])] = onehot_TypeOfAdmission[:,i]"
   ]
  },
  {
   "cell_type": "code",
   "execution_count": 32,
   "metadata": {},
   "outputs": [],
   "source": [
    "colName4 = 'PaymentTypology'\n",
    "for i in range(len(OneHotEncoder_PaymentTypology.categories_[0])):\n",
    "    LosTrainData[colName4 + '_' + str(OneHotEncoder_PaymentTypology.categories_[0][i])] = onehot_PaymentTypology[:,i]"
   ]
  },
  {
   "cell_type": "code",
   "execution_count": 33,
   "metadata": {},
   "outputs": [],
   "source": [
    "colName5 = 'CCSProcedureCode'\n",
    "for i in range(len(OneHotEncoder_CCSProcedureCode.categories_[0])):\n",
    "    LosTrainData[colName5 + '_' + str(OneHotEncoder_CCSProcedureCode.categories_[0][i])] = onehot_CCSProcedureCode[:,i]"
   ]
  },
  {
   "cell_type": "code",
   "execution_count": 34,
   "metadata": {},
   "outputs": [],
   "source": [
    "colName6 = 'EmergencyDepartmentIndicator'\n",
    "for i in range(len(OneHotEncoder_EmergencyDepartmentIndicator.categories_[0])):\n",
    "    LosTrainData[colName6 + '_' + str(OneHotEncoder_EmergencyDepartmentIndicator.categories_[0][i])] = onehot_EmergencyDepartmentIndicator[:,i]"
   ]
  },
  {
   "cell_type": "code",
   "execution_count": 35,
   "metadata": {},
   "outputs": [
    {
     "data": {
      "text/html": [
       "<div>\n",
       "<style scoped>\n",
       "    .dataframe tbody tr th:only-of-type {\n",
       "        vertical-align: middle;\n",
       "    }\n",
       "\n",
       "    .dataframe tbody tr th {\n",
       "        vertical-align: top;\n",
       "    }\n",
       "\n",
       "    .dataframe thead th {\n",
       "        text-align: right;\n",
       "    }\n",
       "</style>\n",
       "<table border=\"1\" class=\"dataframe\">\n",
       "  <thead>\n",
       "    <tr style=\"text-align: right;\">\n",
       "      <th></th>\n",
       "      <th>Gender</th>\n",
       "      <th>Race</th>\n",
       "      <th>TypeOfAdmission</th>\n",
       "      <th>CCSProcedureCode</th>\n",
       "      <th>APRSeverityOfIllnessCode</th>\n",
       "      <th>PaymentTypology</th>\n",
       "      <th>BirthWeight</th>\n",
       "      <th>EmergencyDepartmentIndicator</th>\n",
       "      <th>AverageCostInCounty</th>\n",
       "      <th>AverageChargesInCounty</th>\n",
       "      <th>...</th>\n",
       "      <th>PaymentTypology_Self-Pay</th>\n",
       "      <th>CCSProcedureCode_-1</th>\n",
       "      <th>CCSProcedureCode_0</th>\n",
       "      <th>CCSProcedureCode_115</th>\n",
       "      <th>CCSProcedureCode_216</th>\n",
       "      <th>CCSProcedureCode_220</th>\n",
       "      <th>CCSProcedureCode_228</th>\n",
       "      <th>CCSProcedureCode_231</th>\n",
       "      <th>EmergencyDepartmentIndicator_N</th>\n",
       "      <th>EmergencyDepartmentIndicator_Y</th>\n",
       "    </tr>\n",
       "  </thead>\n",
       "  <tbody>\n",
       "    <tr>\n",
       "      <th>0</th>\n",
       "      <td>F</td>\n",
       "      <td>Other Race</td>\n",
       "      <td>Newborn</td>\n",
       "      <td>228</td>\n",
       "      <td>1</td>\n",
       "      <td>Medicaid</td>\n",
       "      <td>3700</td>\n",
       "      <td>N</td>\n",
       "      <td>2611</td>\n",
       "      <td>9227</td>\n",
       "      <td>...</td>\n",
       "      <td>0.0</td>\n",
       "      <td>0.0</td>\n",
       "      <td>0.0</td>\n",
       "      <td>0.0</td>\n",
       "      <td>0.0</td>\n",
       "      <td>0.0</td>\n",
       "      <td>1.0</td>\n",
       "      <td>0.0</td>\n",
       "      <td>1.0</td>\n",
       "      <td>0.0</td>\n",
       "    </tr>\n",
       "    <tr>\n",
       "      <th>1</th>\n",
       "      <td>M</td>\n",
       "      <td>Black/African American</td>\n",
       "      <td>Newborn</td>\n",
       "      <td>228</td>\n",
       "      <td>1</td>\n",
       "      <td>Medicaid</td>\n",
       "      <td>2900</td>\n",
       "      <td>N</td>\n",
       "      <td>3242</td>\n",
       "      <td>8966</td>\n",
       "      <td>...</td>\n",
       "      <td>0.0</td>\n",
       "      <td>0.0</td>\n",
       "      <td>0.0</td>\n",
       "      <td>0.0</td>\n",
       "      <td>0.0</td>\n",
       "      <td>0.0</td>\n",
       "      <td>1.0</td>\n",
       "      <td>0.0</td>\n",
       "      <td>1.0</td>\n",
       "      <td>0.0</td>\n",
       "    </tr>\n",
       "    <tr>\n",
       "      <th>2</th>\n",
       "      <td>M</td>\n",
       "      <td>Other Race</td>\n",
       "      <td>Newborn</td>\n",
       "      <td>220</td>\n",
       "      <td>1</td>\n",
       "      <td>Private Health Insurance</td>\n",
       "      <td>3200</td>\n",
       "      <td>N</td>\n",
       "      <td>3155</td>\n",
       "      <td>11381</td>\n",
       "      <td>...</td>\n",
       "      <td>0.0</td>\n",
       "      <td>0.0</td>\n",
       "      <td>0.0</td>\n",
       "      <td>0.0</td>\n",
       "      <td>0.0</td>\n",
       "      <td>1.0</td>\n",
       "      <td>0.0</td>\n",
       "      <td>0.0</td>\n",
       "      <td>1.0</td>\n",
       "      <td>0.0</td>\n",
       "    </tr>\n",
       "    <tr>\n",
       "      <th>3</th>\n",
       "      <td>F</td>\n",
       "      <td>Other Race</td>\n",
       "      <td>Newborn</td>\n",
       "      <td>0</td>\n",
       "      <td>1</td>\n",
       "      <td>Private Health Insurance</td>\n",
       "      <td>3300</td>\n",
       "      <td>N</td>\n",
       "      <td>3155</td>\n",
       "      <td>11381</td>\n",
       "      <td>...</td>\n",
       "      <td>0.0</td>\n",
       "      <td>0.0</td>\n",
       "      <td>1.0</td>\n",
       "      <td>0.0</td>\n",
       "      <td>0.0</td>\n",
       "      <td>0.0</td>\n",
       "      <td>0.0</td>\n",
       "      <td>0.0</td>\n",
       "      <td>1.0</td>\n",
       "      <td>0.0</td>\n",
       "    </tr>\n",
       "    <tr>\n",
       "      <th>4</th>\n",
       "      <td>F</td>\n",
       "      <td>Other Race</td>\n",
       "      <td>Newborn</td>\n",
       "      <td>228</td>\n",
       "      <td>1</td>\n",
       "      <td>Medicaid</td>\n",
       "      <td>2600</td>\n",
       "      <td>N</td>\n",
       "      <td>2611</td>\n",
       "      <td>9227</td>\n",
       "      <td>...</td>\n",
       "      <td>0.0</td>\n",
       "      <td>0.0</td>\n",
       "      <td>0.0</td>\n",
       "      <td>0.0</td>\n",
       "      <td>0.0</td>\n",
       "      <td>0.0</td>\n",
       "      <td>1.0</td>\n",
       "      <td>0.0</td>\n",
       "      <td>1.0</td>\n",
       "      <td>0.0</td>\n",
       "    </tr>\n",
       "  </tbody>\n",
       "</table>\n",
       "<p>5 rows × 41 columns</p>\n",
       "</div>"
      ],
      "text/plain": [
       "  Gender                    Race TypeOfAdmission  CCSProcedureCode  \\\n",
       "0      F              Other Race         Newborn               228   \n",
       "1      M  Black/African American         Newborn               228   \n",
       "2      M              Other Race         Newborn               220   \n",
       "3      F              Other Race         Newborn                 0   \n",
       "4      F              Other Race         Newborn               228   \n",
       "\n",
       "   APRSeverityOfIllnessCode           PaymentTypology  BirthWeight  \\\n",
       "0                         1                  Medicaid         3700   \n",
       "1                         1                  Medicaid         2900   \n",
       "2                         1  Private Health Insurance         3200   \n",
       "3                         1  Private Health Insurance         3300   \n",
       "4                         1                  Medicaid         2600   \n",
       "\n",
       "  EmergencyDepartmentIndicator  AverageCostInCounty  AverageChargesInCounty  \\\n",
       "0                            N                 2611                    9227   \n",
       "1                            N                 3242                    8966   \n",
       "2                            N                 3155                   11381   \n",
       "3                            N                 3155                   11381   \n",
       "4                            N                 2611                    9227   \n",
       "\n",
       "   ...  PaymentTypology_Self-Pay  CCSProcedureCode_-1  CCSProcedureCode_0  \\\n",
       "0  ...                       0.0                  0.0                 0.0   \n",
       "1  ...                       0.0                  0.0                 0.0   \n",
       "2  ...                       0.0                  0.0                 0.0   \n",
       "3  ...                       0.0                  0.0                 1.0   \n",
       "4  ...                       0.0                  0.0                 0.0   \n",
       "\n",
       "   CCSProcedureCode_115  CCSProcedureCode_216  CCSProcedureCode_220  \\\n",
       "0                   0.0                   0.0                   0.0   \n",
       "1                   0.0                   0.0                   0.0   \n",
       "2                   0.0                   0.0                   1.0   \n",
       "3                   0.0                   0.0                   0.0   \n",
       "4                   0.0                   0.0                   0.0   \n",
       "\n",
       "   CCSProcedureCode_228  CCSProcedureCode_231  EmergencyDepartmentIndicator_N  \\\n",
       "0                   1.0                   0.0                             1.0   \n",
       "1                   1.0                   0.0                             1.0   \n",
       "2                   0.0                   0.0                             1.0   \n",
       "3                   0.0                   0.0                             1.0   \n",
       "4                   1.0                   0.0                             1.0   \n",
       "\n",
       "   EmergencyDepartmentIndicator_Y  \n",
       "0                             0.0  \n",
       "1                             0.0  \n",
       "2                             0.0  \n",
       "3                             0.0  \n",
       "4                             0.0  \n",
       "\n",
       "[5 rows x 41 columns]"
      ]
     },
     "execution_count": 35,
     "metadata": {},
     "output_type": "execute_result"
    }
   ],
   "source": [
    "LosTrainData.head()"
   ]
  },
  {
   "cell_type": "markdown",
   "metadata": {},
   "source": [
    "Since we have represented the all the categorical column with the new columns, we should remove the original column to eliminate redundancy."
   ]
  },
  {
   "cell_type": "code",
   "execution_count": 36,
   "metadata": {},
   "outputs": [],
   "source": [
    "LosTrainData = LosTrainData.drop(['Gender','Race','TypeOfAdmission','PaymentTypology','EmergencyDepartmentIndicator','CCSProcedureCode'], axis=1)"
   ]
  },
  {
   "cell_type": "code",
   "execution_count": 37,
   "metadata": {},
   "outputs": [
    {
     "data": {
      "text/html": [
       "<div>\n",
       "<style scoped>\n",
       "    .dataframe tbody tr th:only-of-type {\n",
       "        vertical-align: middle;\n",
       "    }\n",
       "\n",
       "    .dataframe tbody tr th {\n",
       "        vertical-align: top;\n",
       "    }\n",
       "\n",
       "    .dataframe thead th {\n",
       "        text-align: right;\n",
       "    }\n",
       "</style>\n",
       "<table border=\"1\" class=\"dataframe\">\n",
       "  <thead>\n",
       "    <tr style=\"text-align: right;\">\n",
       "      <th></th>\n",
       "      <th>APRSeverityOfIllnessCode</th>\n",
       "      <th>BirthWeight</th>\n",
       "      <th>AverageCostInCounty</th>\n",
       "      <th>AverageChargesInCounty</th>\n",
       "      <th>AverageCostInFacility</th>\n",
       "      <th>AverageChargesInFacility</th>\n",
       "      <th>AverageIncomeInZipCode</th>\n",
       "      <th>LengthOfStay</th>\n",
       "      <th>Gender_F</th>\n",
       "      <th>Gender_M</th>\n",
       "      <th>...</th>\n",
       "      <th>PaymentTypology_Self-Pay</th>\n",
       "      <th>CCSProcedureCode_-1</th>\n",
       "      <th>CCSProcedureCode_0</th>\n",
       "      <th>CCSProcedureCode_115</th>\n",
       "      <th>CCSProcedureCode_216</th>\n",
       "      <th>CCSProcedureCode_220</th>\n",
       "      <th>CCSProcedureCode_228</th>\n",
       "      <th>CCSProcedureCode_231</th>\n",
       "      <th>EmergencyDepartmentIndicator_N</th>\n",
       "      <th>EmergencyDepartmentIndicator_Y</th>\n",
       "    </tr>\n",
       "  </thead>\n",
       "  <tbody>\n",
       "    <tr>\n",
       "      <th>0</th>\n",
       "      <td>1</td>\n",
       "      <td>3700</td>\n",
       "      <td>2611</td>\n",
       "      <td>9227</td>\n",
       "      <td>1751</td>\n",
       "      <td>8951</td>\n",
       "      <td>45</td>\n",
       "      <td>0</td>\n",
       "      <td>1.0</td>\n",
       "      <td>0.0</td>\n",
       "      <td>...</td>\n",
       "      <td>0.0</td>\n",
       "      <td>0.0</td>\n",
       "      <td>0.0</td>\n",
       "      <td>0.0</td>\n",
       "      <td>0.0</td>\n",
       "      <td>0.0</td>\n",
       "      <td>1.0</td>\n",
       "      <td>0.0</td>\n",
       "      <td>1.0</td>\n",
       "      <td>0.0</td>\n",
       "    </tr>\n",
       "    <tr>\n",
       "      <th>1</th>\n",
       "      <td>1</td>\n",
       "      <td>2900</td>\n",
       "      <td>3242</td>\n",
       "      <td>8966</td>\n",
       "      <td>3338</td>\n",
       "      <td>6409</td>\n",
       "      <td>34</td>\n",
       "      <td>0</td>\n",
       "      <td>0.0</td>\n",
       "      <td>1.0</td>\n",
       "      <td>...</td>\n",
       "      <td>0.0</td>\n",
       "      <td>0.0</td>\n",
       "      <td>0.0</td>\n",
       "      <td>0.0</td>\n",
       "      <td>0.0</td>\n",
       "      <td>0.0</td>\n",
       "      <td>1.0</td>\n",
       "      <td>0.0</td>\n",
       "      <td>1.0</td>\n",
       "      <td>0.0</td>\n",
       "    </tr>\n",
       "    <tr>\n",
       "      <th>2</th>\n",
       "      <td>1</td>\n",
       "      <td>3200</td>\n",
       "      <td>3155</td>\n",
       "      <td>11381</td>\n",
       "      <td>4980</td>\n",
       "      <td>9323</td>\n",
       "      <td>45</td>\n",
       "      <td>0</td>\n",
       "      <td>0.0</td>\n",
       "      <td>1.0</td>\n",
       "      <td>...</td>\n",
       "      <td>0.0</td>\n",
       "      <td>0.0</td>\n",
       "      <td>0.0</td>\n",
       "      <td>0.0</td>\n",
       "      <td>0.0</td>\n",
       "      <td>1.0</td>\n",
       "      <td>0.0</td>\n",
       "      <td>0.0</td>\n",
       "      <td>1.0</td>\n",
       "      <td>0.0</td>\n",
       "    </tr>\n",
       "    <tr>\n",
       "      <th>3</th>\n",
       "      <td>1</td>\n",
       "      <td>3300</td>\n",
       "      <td>3155</td>\n",
       "      <td>11381</td>\n",
       "      <td>5826</td>\n",
       "      <td>15680</td>\n",
       "      <td>59</td>\n",
       "      <td>0</td>\n",
       "      <td>1.0</td>\n",
       "      <td>0.0</td>\n",
       "      <td>...</td>\n",
       "      <td>0.0</td>\n",
       "      <td>0.0</td>\n",
       "      <td>1.0</td>\n",
       "      <td>0.0</td>\n",
       "      <td>0.0</td>\n",
       "      <td>0.0</td>\n",
       "      <td>0.0</td>\n",
       "      <td>0.0</td>\n",
       "      <td>1.0</td>\n",
       "      <td>0.0</td>\n",
       "    </tr>\n",
       "    <tr>\n",
       "      <th>4</th>\n",
       "      <td>1</td>\n",
       "      <td>2600</td>\n",
       "      <td>2611</td>\n",
       "      <td>9227</td>\n",
       "      <td>6000</td>\n",
       "      <td>14344</td>\n",
       "      <td>59</td>\n",
       "      <td>0</td>\n",
       "      <td>1.0</td>\n",
       "      <td>0.0</td>\n",
       "      <td>...</td>\n",
       "      <td>0.0</td>\n",
       "      <td>0.0</td>\n",
       "      <td>0.0</td>\n",
       "      <td>0.0</td>\n",
       "      <td>0.0</td>\n",
       "      <td>0.0</td>\n",
       "      <td>1.0</td>\n",
       "      <td>0.0</td>\n",
       "      <td>1.0</td>\n",
       "      <td>0.0</td>\n",
       "    </tr>\n",
       "  </tbody>\n",
       "</table>\n",
       "<p>5 rows × 35 columns</p>\n",
       "</div>"
      ],
      "text/plain": [
       "   APRSeverityOfIllnessCode  BirthWeight  AverageCostInCounty  \\\n",
       "0                         1         3700                 2611   \n",
       "1                         1         2900                 3242   \n",
       "2                         1         3200                 3155   \n",
       "3                         1         3300                 3155   \n",
       "4                         1         2600                 2611   \n",
       "\n",
       "   AverageChargesInCounty  AverageCostInFacility  AverageChargesInFacility  \\\n",
       "0                    9227                   1751                      8951   \n",
       "1                    8966                   3338                      6409   \n",
       "2                   11381                   4980                      9323   \n",
       "3                   11381                   5826                     15680   \n",
       "4                    9227                   6000                     14344   \n",
       "\n",
       "   AverageIncomeInZipCode  LengthOfStay  Gender_F  Gender_M  ...  \\\n",
       "0                      45             0       1.0       0.0  ...   \n",
       "1                      34             0       0.0       1.0  ...   \n",
       "2                      45             0       0.0       1.0  ...   \n",
       "3                      59             0       1.0       0.0  ...   \n",
       "4                      59             0       1.0       0.0  ...   \n",
       "\n",
       "   PaymentTypology_Self-Pay  CCSProcedureCode_-1  CCSProcedureCode_0  \\\n",
       "0                       0.0                  0.0                 0.0   \n",
       "1                       0.0                  0.0                 0.0   \n",
       "2                       0.0                  0.0                 0.0   \n",
       "3                       0.0                  0.0                 1.0   \n",
       "4                       0.0                  0.0                 0.0   \n",
       "\n",
       "   CCSProcedureCode_115  CCSProcedureCode_216  CCSProcedureCode_220  \\\n",
       "0                   0.0                   0.0                   0.0   \n",
       "1                   0.0                   0.0                   0.0   \n",
       "2                   0.0                   0.0                   1.0   \n",
       "3                   0.0                   0.0                   0.0   \n",
       "4                   0.0                   0.0                   0.0   \n",
       "\n",
       "   CCSProcedureCode_228  CCSProcedureCode_231  EmergencyDepartmentIndicator_N  \\\n",
       "0                   1.0                   0.0                             1.0   \n",
       "1                   1.0                   0.0                             1.0   \n",
       "2                   0.0                   0.0                             1.0   \n",
       "3                   0.0                   0.0                             1.0   \n",
       "4                   1.0                   0.0                             1.0   \n",
       "\n",
       "   EmergencyDepartmentIndicator_Y  \n",
       "0                             0.0  \n",
       "1                             0.0  \n",
       "2                             0.0  \n",
       "3                             0.0  \n",
       "4                             0.0  \n",
       "\n",
       "[5 rows x 35 columns]"
      ]
     },
     "execution_count": 37,
     "metadata": {},
     "output_type": "execute_result"
    }
   ],
   "source": [
    "LosTrainData.head()"
   ]
  },
  {
   "cell_type": "markdown",
   "metadata": {},
   "source": [
    "# Setting up the performance (evaluation) metric\n",
    "In this task, I want to give equal importance to all two classes therefore I'll use macro-averaged f1 score as my success metric. I'll use a confusion matrix to figure out what my classification model is predicting correctly and what kinds of errors it's producing. "
   ]
  },
  {
   "cell_type": "markdown",
   "metadata": {},
   "source": [
    "# Data Splits & Feature Scaling\n",
    "Based on the EDA, there was a heavy imbalance between the two classes of target variable LengthOfStay.\n",
    "To deal with this problem i am going to use stratified sampling to split the data into 80 % training data and 20 % test set.\n",
    "I am going to perform Min-max scaling on each feature so that the values are mapped to the range [0,1] \n",
    "I am using power transformation for AverageCostInFacility variable to deal with the skewed data."
   ]
  },
  {
   "cell_type": "code",
   "execution_count": 38,
   "metadata": {},
   "outputs": [
    {
     "name": "stdout",
     "output_type": "stream",
     "text": [
      "47972 11994\n"
     ]
    }
   ],
   "source": [
    "from sklearn.model_selection import train_test_split\n",
    "\n",
    "\n",
    "with pd.option_context('mode.chained_assignment', None):\n",
    "    train_data, test_data = train_test_split(LosTrainData, test_size=0.2, \n",
    "                                             shuffle=True,random_state=0,stratify = LosTrainData['LengthOfStay'])\n",
    "    \n",
    "print(train_data.shape[0], test_data.shape[0])"
   ]
  },
  {
   "cell_type": "code",
   "execution_count": 39,
   "metadata": {},
   "outputs": [],
   "source": [
    "from sklearn.preprocessing import PowerTransformer\n",
    "\n",
    "logNorm_attributes = ['AverageCostInFacility']\n",
    "train_data_scaled = train_data.copy()\n",
    "test_data_scaled = test_data.copy()\n",
    "powertransformer = PowerTransformer(method='yeo-johnson', standardize=False).fit(train_data_scaled.loc[:, logNorm_attributes])\n",
    "train_data_scaled.loc[:, logNorm_attributes] = powertransformer.transform(train_data_scaled.loc[:, logNorm_attributes])\n",
    "test_data_scaled.loc[:, logNorm_attributes] = powertransformer.transform(test_data_scaled.loc[:, logNorm_attributes])"
   ]
  },
  {
   "cell_type": "code",
   "execution_count": 40,
   "metadata": {},
   "outputs": [
    {
     "data": {
      "text/plain": [
       "Text(0.5, 1.0, 'After Min-Max scaling')"
      ]
     },
     "execution_count": 40,
     "metadata": {},
     "output_type": "execute_result"
    },
    {
     "data": {
      "image/png": "[encoded data removed]",
      "text/plain": [
       "<Figure size 1080x360 with 2 Axes>"
      ]
     },
     "metadata": {
      "needs_background": "light"
     },
     "output_type": "display_data"
    }
   ],
   "source": [
    "plt.figure(figsize=(15,5))\n",
    "plt.subplot(1,3,1)\n",
    "plt.hist(train_data['AverageCostInFacility'], alpha=0.3, color='r', density=True)\n",
    "plt.title(\"Original\")\n",
    "\n",
    "plt.subplot(1,3,2)\n",
    "plt.hist(train_data_scaled['AverageCostInFacility'], alpha=0.3, color='r')\n",
    "plt.title(\"After Min-Max scaling\")"
   ]
  },
  {
   "cell_type": "markdown",
   "metadata": {},
   "source": [
    "Next, seperate the target avriable and input variables."
   ]
  },
  {
   "cell_type": "code",
   "execution_count": 41,
   "metadata": {},
   "outputs": [],
   "source": [
    "train_X = train_data_scaled.drop(['LengthOfStay',], axis=1).to_numpy()\n",
    "train_y = train_data_scaled[['LengthOfStay']].to_numpy()\n",
    "\n",
    "test_X = test_data_scaled.drop(['LengthOfStay',], axis=1).to_numpy()\n",
    "test_y = test_data_scaled[['LengthOfStay']].to_numpy()"
   ]
  },
  {
   "cell_type": "markdown",
   "metadata": {},
   "source": [
    "# Baseline model:\n",
    "For this Task, I've chosen regularised polynomial logistic regression as it is the simple model which works well with binary classification problem.Based on EDA,However, because of the 2D plain, a non-linear decision boundary could not be seen in the scatter plot to distinguish the groups, but in higher dimensions, a non-linear decision boundary could be seen to support the polynomial model. Since we have correlated, regularisation is justified."
   ]
  },
  {
   "cell_type": "code",
   "execution_count": 42,
   "metadata": {},
   "outputs": [],
   "source": [
    "from sklearn.preprocessing import PolynomialFeatures\n",
    "\n",
    "poly = PolynomialFeatures(2)\n",
    "poly.fit(train_X)\n",
    "train_X = poly.transform(train_X)\n",
    "test_X = poly.transform(test_X)"
   ]
  },
  {
   "cell_type": "code",
   "execution_count": 43,
   "metadata": {},
   "outputs": [],
   "source": [
    "from sklearn.preprocessing import MinMaxScaler\n",
    "scaler = MinMaxScaler()\n",
    "scaler.fit(train_X)\n",
    "\n",
    "train_X = scaler.transform(train_X)\n",
    "test_X = scaler.transform(test_X)"
   ]
  },
  {
   "cell_type": "markdown",
   "metadata": {},
   "source": [
    "Lets setup a function to get the performance. This function will resturn tarin and test macro averaged f1 score."
   ]
  },
  {
   "cell_type": "code",
   "execution_count": 44,
   "metadata": {},
   "outputs": [],
   "source": [
    "from sklearn.metrics import f1_score\n",
    "\n",
    "def get_f1_scores(clf, train_X, train_y, test_X, test_y):\n",
    "    train_pred = clf.predict(train_X)\n",
    "    test_pred = clf.predict(test_X)\n",
    "    \n",
    "    train_f1 = f1_score(train_y, train_pred, average='macro')\n",
    "    test_f1 = f1_score(test_y, test_pred, average='macro')\n",
    "    \n",
    "    return train_f1, test_f1"
   ]
  },
  {
   "cell_type": "markdown",
   "metadata": {},
   "source": [
    "# Hyper parameter tuning\n",
    "I'm using 5 fold cross validation for cross validation. I set the penalty to 'l2' because I want to reduce the coefficent of the features that contribute the least to the final model prediction. I've set class weight='balanced' to give my two target classes the same weight.\n",
    "To predict the best lambda value, I'm using cross validate."
   ]
  },
  {
   "cell_type": "code",
   "execution_count": 46,
   "metadata": {},
   "outputs": [],
   "source": [
    "from sklearn.linear_model import LogisticRegression\n",
    "from sklearn.model_selection import cross_validate\n",
    "from sklearn.metrics import accuracy_score, make_scorer\n",
    "\n",
    "f1_scorer = make_scorer(f1_score, average='weighted')\n",
    "lambda_paras = np.logspace(-10, 2, num=5)\n",
    "\n",
    "cv_results = dict()\n",
    "\n",
    "for lambda_para in lambda_paras:\n",
    "    clf = LogisticRegression(penalty='l2', C = 1.0/lambda_para, \n",
    "                             solver='liblinear', max_iter=1000, \n",
    "                             class_weight='balanced')\n",
    "    \n",
    "    scores = cross_validate(clf, train_X, train_y.ravel(), \n",
    "                            scoring=f1_scorer, return_estimator=True,\n",
    "                            return_train_score=True, cv=5)\n",
    "    \n",
    "    cv_results[lambda_para] = scores"
   ]
  },
  {
   "cell_type": "code",
   "execution_count": 49,
   "metadata": {},
   "outputs": [
    {
     "data": {
      "image/png": "[encoded data removed]",
      "text/plain": [
       "<Figure size 432x288 with 1 Axes>"
      ]
     },
     "metadata": {
      "needs_background": "light"
     },
     "output_type": "display_data"
    }
   ],
   "source": [
    "fig, ax = plt.subplots()\n",
    "\n",
    "test_means = [np.mean(cv_results[lambda_para]['test_score']) \n",
    "             for lambda_para in lambda_paras]\n",
    "\n",
    "test_std = [np.std(cv_results[lambda_para]['test_score']) \n",
    "           for lambda_para in lambda_paras]\n",
    "\n",
    "train_means = [np.mean(cv_results[lambda_para]['train_score']) \n",
    "               for lambda_para in lambda_paras]\n",
    "\n",
    "train_std = [np.std(cv_results[lambda_para]['train_score']) \n",
    "             for lambda_para in lambda_paras]\n",
    "\n",
    "ax.errorbar([1.0/lambda_para for lambda_para in lambda_paras], \n",
    "            test_means,\n",
    "            yerr=test_std)\n",
    "\n",
    "ax.errorbar([1.0/lambda_para for lambda_para in lambda_paras], \n",
    "            train_means,\n",
    "            yerr=train_std)\n",
    "\n",
    "plt.xscale(\"log\")\n",
    "plt.ylabel('Classification Error')\n",
    "plt.xlabel('Model Capacity')\n",
    "plt.legend(['Testing','Training',])\n",
    "plt.show()"
   ]
  },
  {
   "cell_type": "code",
   "execution_count": 79,
   "metadata": {},
   "outputs": [],
   "source": [
    "best_lambda = 0.1    # best lambda according to the above figure\n",
    "\n",
    "# get the split that has the closest performance value to the mean performance\n",
    "best_classifier_inx = np.argmin(np.abs(cv_results[0.1]['test_score'] - np.mean(cv_results[0.1]['test_score'])))\n",
    "\n",
    "clf = cv_results[0.1]['estimator'][best_classifier_inx]"
   ]
  },
  {
   "cell_type": "markdown",
   "metadata": {},
   "source": [
    "# Testing the model\n",
    "\n",
    "The next step is to evaluate our developed model and see if this model can be trusted to use to generalise to unseen data(test data).\n",
    "I am going to use classification report to see macro averaged f1 score and confusion matrix to see how well my model has predicted the true positive and true negatives."
   ]
  },
  {
   "cell_type": "code",
   "execution_count": 80,
   "metadata": {},
   "outputs": [
    {
     "name": "stdout",
     "output_type": "stream",
     "text": [
      "Train f1 score: 0.624\n",
      "Test f1 score: 0.615\n"
     ]
    }
   ],
   "source": [
    "train_f1,test_f1 = get_f1_scores(clf,train_X,train_y,test_X,test_y)\n",
    "print(\"Train f1 score: {:.3f}\".format(train_f1))\n",
    "print(\"Test f1 score: {:.3f}\".format(test_f1))"
   ]
  },
  {
   "cell_type": "code",
   "execution_count": 76,
   "metadata": {},
   "outputs": [
    {
     "name": "stdout",
     "output_type": "stream",
     "text": [
      "              precision    recall  f1-score   support\n",
      "\n",
      "           0       0.94      0.67      0.78     39915\n",
      "           1       0.33      0.78      0.46      8057\n",
      "\n",
      "    accuracy                           0.69     47972\n",
      "   macro avg       0.63      0.73      0.62     47972\n",
      "weighted avg       0.84      0.69      0.73     47972\n",
      "\n"
     ]
    }
   ],
   "source": [
    "from sklearn.metrics import classification_report\n",
    "train_pred = clf.predict(train_X)\n",
    "print(classification_report(train_y,train_pred))"
   ]
  },
  {
   "cell_type": "code",
   "execution_count": null,
   "metadata": {},
   "outputs": [],
   "source": [
    "from sklearn.metrics import classification_report\n",
    "test_pred = clf.predict(test_X)\n",
    "print(classification_report(test_y,test_pred))"
   ]
  },
  {
   "cell_type": "code",
   "execution_count": null,
   "metadata": {},
   "outputs": [],
   "source": []
  },
  {
   "cell_type": "code",
   "execution_count": 54,
   "metadata": {},
   "outputs": [
    {
     "data": {
      "image/png": "[encoded data removed]",
      "text/plain": [
       "<Figure size 432x288 with 2 Axes>"
      ]
     },
     "metadata": {
      "needs_background": "light"
     },
     "output_type": "display_data"
    }
   ],
   "source": [
    "from sklearn.metrics import plot_confusion_matrix\n",
    "\n",
    "disp = plot_confusion_matrix(clf, test_X, test_y,\n",
    "                                 cmap=plt.cm.Blues)\n",
    "plt.show()"
   ]
  },
  {
   "cell_type": "markdown",
   "metadata": {},
   "source": [
    "# Result:\n",
    "\n",
    "From the above, the macro averaged f1 score for Train is 0.624 and Test is 0.615. By the classification report it\n",
    "can be seen that the model has nicely predicted the class 0 as comapared to class 1 for both train and test. This can happen due to the imbalanced data.\n",
    "From the confusion matrix:\n",
    "True Positive (TP) = 7324,means that 560 positive class(class 0) data points were correctly classified by the model\n",
    "True Negative (TN) = 1240, means 1240 negative class(class 1) data points were correctly classified by the model\n",
    "False Positive (FP) = 2656 means 2656 negative class(1) data points were incorrectly classified which belong to the positive class(0) by the model\n",
    "False Negative (FN) = 774,means that 50 positive class(0) data points were incorrectly classified which belong to the negative class(0) by the model\n",
    "\n",
    "Though the model has predicted relatively large true positive, This model has not performed that well considering the macro f1 score and less number of true negative values.\n",
    "\n"
   ]
  },
  {
   "cell_type": "markdown",
   "metadata": {},
   "source": [
    "# Base line Model-2\n",
    "\n",
    "Since the baseline model, logistic regression, did not work well, I will use decision tree as my next model. Decision trees work well in this situation because I have a large dataset of both numerical and categorical variables.\n",
    "\n",
    "# Decision tree\n",
    "Lets train a simple decision tree and visualize it.\n",
    "I have given max_depth = 10, as the dataset is quite large, and have selected class_weight='balanced to give equal weightage\n",
    "to both of the target class."
   ]
  },
  {
   "cell_type": "markdown",
   "metadata": {},
   "source": [
    "Using the same splitted dataset, i have used for logistic regression."
   ]
  },
  {
   "cell_type": "code",
   "execution_count": 120,
   "metadata": {},
   "outputs": [],
   "source": [
    "train_X = train_data_scaled.drop(['LengthOfStay',], axis=1).to_numpy()\n",
    "train_y = train_data_scaled[['LengthOfStay']].to_numpy()\n",
    "\n",
    "test_X = test_data_scaled.drop(['LengthOfStay',], axis=1).to_numpy()\n",
    "test_y = test_data_scaled[['LengthOfStay']].to_numpy()"
   ]
  },
  {
   "cell_type": "code",
   "execution_count": 121,
   "metadata": {},
   "outputs": [],
   "source": [
    "from sklearn import tree\n",
    "\n",
    "tree_max_depth = 10   #change this value and observe\n",
    "\n",
    "clf = tree.DecisionTreeClassifier(criterion='entropy', max_depth=tree_max_depth, class_weight='balanced')\n",
    "clf = clf.fit(train_X, train_y)"
   ]
  },
  {
   "cell_type": "markdown",
   "metadata": {},
   "source": [
    "Print the macro averaged f1 score for both Train and Test."
   ]
  },
  {
   "cell_type": "code",
   "execution_count": 122,
   "metadata": {},
   "outputs": [
    {
     "name": "stdout",
     "output_type": "stream",
     "text": [
      "Train f1 score: 0.655\n",
      "Test f1 score: 0.629\n"
     ]
    }
   ],
   "source": [
    "train_f1, test_f1 = get_f1_scores(clf,train_X, train_y, test_X, test_y)\n",
    "print(\"Train f1 score: {:.3f}\".format(train_f1))\n",
    "print(\"Test f1 score: {:.3f}\".format(test_f1))"
   ]
  },
  {
   "cell_type": "markdown",
   "metadata": {},
   "source": [
    "We can see that as there is a significant gap between Train and test f1 score which leads to a overfitting as train f1 score is hiher than the test f1 score.However, if we increase or decrese the tree max_depth, it will lead to a overfiiting or underfitting. Our model has not reached to a good performance so let's hyper tune the parameter."
   ]
  },
  {
   "cell_type": "markdown",
   "metadata": {},
   "source": [
    "# Hyper parameter tuning\n",
    "To increase the model performance and deal with the overfitting, let's tune the important hyper-paramters of the decision tree classifier to get the best performance.\n",
    "\n",
    "In this task, I am using Sklearn function GridSearch to get the best set of hyper parameters which can be used to tune the model.\n",
    "I have passed max_depth range from 10 to 400. and select the best criterion from entropy and gini."
   ]
  },
  {
   "cell_type": "code",
   "execution_count": 123,
   "metadata": {},
   "outputs": [
    {
     "data": {
      "text/plain": [
       "GridSearchCV(cv=5, estimator=DecisionTreeClassifier(class_weight='balanced'),\n",
       "             param_grid={'criterion': ['entropy', 'gini'],\n",
       "                         'max_depth': array([ 10, 110, 210, 310]),\n",
       "                         'min_samples_split': array([ 2,  7, 12, 17, 22, 27, 32, 37, 42, 47])},\n",
       "             scoring='f1_macro')"
      ]
     },
     "execution_count": 123,
     "metadata": {},
     "output_type": "execute_result"
    }
   ],
   "source": [
    "from sklearn.model_selection import GridSearchCV\n",
    "\n",
    "parameters = {'max_depth':np.arange(10,400, 100), 'min_samples_split':np.arange(2,50,5),'criterion':['entropy','gini']}\n",
    "\n",
    "dt_clf = tree.DecisionTreeClassifier(class_weight='balanced')\n",
    "Gridclf = GridSearchCV(dt_clf, parameters, scoring='f1_macro',cv=5)\n",
    "Gridclf.fit(train_X, train_y)"
   ]
  },
  {
   "cell_type": "code",
   "execution_count": 124,
   "metadata": {},
   "outputs": [
    {
     "data": {
      "text/html": [
       "<div>\n",
       "<style scoped>\n",
       "    .dataframe tbody tr th:only-of-type {\n",
       "        vertical-align: middle;\n",
       "    }\n",
       "\n",
       "    .dataframe tbody tr th {\n",
       "        vertical-align: top;\n",
       "    }\n",
       "\n",
       "    .dataframe thead th {\n",
       "        text-align: right;\n",
       "    }\n",
       "</style>\n",
       "<table border=\"1\" class=\"dataframe\">\n",
       "  <thead>\n",
       "    <tr style=\"text-align: right;\">\n",
       "      <th></th>\n",
       "      <th>mean_fit_time</th>\n",
       "      <th>std_fit_time</th>\n",
       "      <th>mean_score_time</th>\n",
       "      <th>std_score_time</th>\n",
       "      <th>param_criterion</th>\n",
       "      <th>param_max_depth</th>\n",
       "      <th>param_min_samples_split</th>\n",
       "      <th>params</th>\n",
       "      <th>split0_test_score</th>\n",
       "      <th>split1_test_score</th>\n",
       "      <th>split2_test_score</th>\n",
       "      <th>split3_test_score</th>\n",
       "      <th>split4_test_score</th>\n",
       "      <th>mean_test_score</th>\n",
       "      <th>std_test_score</th>\n",
       "      <th>rank_test_score</th>\n",
       "    </tr>\n",
       "  </thead>\n",
       "  <tbody>\n",
       "    <tr>\n",
       "      <th>0</th>\n",
       "      <td>0.136765</td>\n",
       "      <td>0.018241</td>\n",
       "      <td>0.004272</td>\n",
       "      <td>0.000260</td>\n",
       "      <td>entropy</td>\n",
       "      <td>10</td>\n",
       "      <td>2</td>\n",
       "      <td>{'criterion': 'entropy', 'max_depth': 10, 'min...</td>\n",
       "      <td>0.624471</td>\n",
       "      <td>0.622211</td>\n",
       "      <td>0.628930</td>\n",
       "      <td>0.613857</td>\n",
       "      <td>0.613567</td>\n",
       "      <td>0.620607</td>\n",
       "      <td>0.006031</td>\n",
       "      <td>9</td>\n",
       "    </tr>\n",
       "    <tr>\n",
       "      <th>1</th>\n",
       "      <td>0.138015</td>\n",
       "      <td>0.012445</td>\n",
       "      <td>0.004683</td>\n",
       "      <td>0.000630</td>\n",
       "      <td>entropy</td>\n",
       "      <td>10</td>\n",
       "      <td>7</td>\n",
       "      <td>{'criterion': 'entropy', 'max_depth': 10, 'min...</td>\n",
       "      <td>0.624040</td>\n",
       "      <td>0.621985</td>\n",
       "      <td>0.628950</td>\n",
       "      <td>0.614141</td>\n",
       "      <td>0.613271</td>\n",
       "      <td>0.620477</td>\n",
       "      <td>0.005981</td>\n",
       "      <td>10</td>\n",
       "    </tr>\n",
       "    <tr>\n",
       "      <th>2</th>\n",
       "      <td>0.140727</td>\n",
       "      <td>0.016028</td>\n",
       "      <td>0.004347</td>\n",
       "      <td>0.000420</td>\n",
       "      <td>entropy</td>\n",
       "      <td>10</td>\n",
       "      <td>12</td>\n",
       "      <td>{'criterion': 'entropy', 'max_depth': 10, 'min...</td>\n",
       "      <td>0.624584</td>\n",
       "      <td>0.621915</td>\n",
       "      <td>0.629429</td>\n",
       "      <td>0.614329</td>\n",
       "      <td>0.614108</td>\n",
       "      <td>0.620873</td>\n",
       "      <td>0.005944</td>\n",
       "      <td>8</td>\n",
       "    </tr>\n",
       "    <tr>\n",
       "      <th>3</th>\n",
       "      <td>0.125306</td>\n",
       "      <td>0.002325</td>\n",
       "      <td>0.004304</td>\n",
       "      <td>0.000265</td>\n",
       "      <td>entropy</td>\n",
       "      <td>10</td>\n",
       "      <td>17</td>\n",
       "      <td>{'criterion': 'entropy', 'max_depth': 10, 'min...</td>\n",
       "      <td>0.625674</td>\n",
       "      <td>0.621915</td>\n",
       "      <td>0.629409</td>\n",
       "      <td>0.614688</td>\n",
       "      <td>0.614279</td>\n",
       "      <td>0.621193</td>\n",
       "      <td>0.005970</td>\n",
       "      <td>6</td>\n",
       "    </tr>\n",
       "    <tr>\n",
       "      <th>4</th>\n",
       "      <td>0.130429</td>\n",
       "      <td>0.006056</td>\n",
       "      <td>0.004223</td>\n",
       "      <td>0.000269</td>\n",
       "      <td>entropy</td>\n",
       "      <td>10</td>\n",
       "      <td>22</td>\n",
       "      <td>{'criterion': 'entropy', 'max_depth': 10, 'min...</td>\n",
       "      <td>0.625564</td>\n",
       "      <td>0.621569</td>\n",
       "      <td>0.629245</td>\n",
       "      <td>0.615124</td>\n",
       "      <td>0.614322</td>\n",
       "      <td>0.621165</td>\n",
       "      <td>0.005799</td>\n",
       "      <td>7</td>\n",
       "    </tr>\n",
       "    <tr>\n",
       "      <th>...</th>\n",
       "      <td>...</td>\n",
       "      <td>...</td>\n",
       "      <td>...</td>\n",
       "      <td>...</td>\n",
       "      <td>...</td>\n",
       "      <td>...</td>\n",
       "      <td>...</td>\n",
       "      <td>...</td>\n",
       "      <td>...</td>\n",
       "      <td>...</td>\n",
       "      <td>...</td>\n",
       "      <td>...</td>\n",
       "      <td>...</td>\n",
       "      <td>...</td>\n",
       "      <td>...</td>\n",
       "      <td>...</td>\n",
       "    </tr>\n",
       "    <tr>\n",
       "      <th>75</th>\n",
       "      <td>0.170097</td>\n",
       "      <td>0.006054</td>\n",
       "      <td>0.005127</td>\n",
       "      <td>0.000060</td>\n",
       "      <td>gini</td>\n",
       "      <td>310</td>\n",
       "      <td>27</td>\n",
       "      <td>{'criterion': 'gini', 'max_depth': 310, 'min_s...</td>\n",
       "      <td>0.586045</td>\n",
       "      <td>0.585494</td>\n",
       "      <td>0.587504</td>\n",
       "      <td>0.580993</td>\n",
       "      <td>0.578162</td>\n",
       "      <td>0.583639</td>\n",
       "      <td>0.003498</td>\n",
       "      <td>45</td>\n",
       "    </tr>\n",
       "    <tr>\n",
       "      <th>76</th>\n",
       "      <td>0.165947</td>\n",
       "      <td>0.004341</td>\n",
       "      <td>0.005016</td>\n",
       "      <td>0.000068</td>\n",
       "      <td>gini</td>\n",
       "      <td>310</td>\n",
       "      <td>32</td>\n",
       "      <td>{'criterion': 'gini', 'max_depth': 310, 'min_s...</td>\n",
       "      <td>0.591840</td>\n",
       "      <td>0.589759</td>\n",
       "      <td>0.591224</td>\n",
       "      <td>0.581802</td>\n",
       "      <td>0.578135</td>\n",
       "      <td>0.586552</td>\n",
       "      <td>0.005540</td>\n",
       "      <td>39</td>\n",
       "    </tr>\n",
       "    <tr>\n",
       "      <th>77</th>\n",
       "      <td>0.163243</td>\n",
       "      <td>0.004438</td>\n",
       "      <td>0.004603</td>\n",
       "      <td>0.000035</td>\n",
       "      <td>gini</td>\n",
       "      <td>310</td>\n",
       "      <td>37</td>\n",
       "      <td>{'criterion': 'gini', 'max_depth': 310, 'min_s...</td>\n",
       "      <td>0.592490</td>\n",
       "      <td>0.594577</td>\n",
       "      <td>0.594366</td>\n",
       "      <td>0.585225</td>\n",
       "      <td>0.582409</td>\n",
       "      <td>0.589813</td>\n",
       "      <td>0.005029</td>\n",
       "      <td>33</td>\n",
       "    </tr>\n",
       "    <tr>\n",
       "      <th>78</th>\n",
       "      <td>0.158206</td>\n",
       "      <td>0.003771</td>\n",
       "      <td>0.004669</td>\n",
       "      <td>0.000101</td>\n",
       "      <td>gini</td>\n",
       "      <td>310</td>\n",
       "      <td>42</td>\n",
       "      <td>{'criterion': 'gini', 'max_depth': 310, 'min_s...</td>\n",
       "      <td>0.595875</td>\n",
       "      <td>0.591211</td>\n",
       "      <td>0.594804</td>\n",
       "      <td>0.586554</td>\n",
       "      <td>0.582336</td>\n",
       "      <td>0.590156</td>\n",
       "      <td>0.005090</td>\n",
       "      <td>29</td>\n",
       "    </tr>\n",
       "    <tr>\n",
       "      <th>79</th>\n",
       "      <td>0.159967</td>\n",
       "      <td>0.004003</td>\n",
       "      <td>0.004561</td>\n",
       "      <td>0.000040</td>\n",
       "      <td>gini</td>\n",
       "      <td>310</td>\n",
       "      <td>47</td>\n",
       "      <td>{'criterion': 'gini', 'max_depth': 310, 'min_s...</td>\n",
       "      <td>0.594139</td>\n",
       "      <td>0.591058</td>\n",
       "      <td>0.599683</td>\n",
       "      <td>0.590094</td>\n",
       "      <td>0.587496</td>\n",
       "      <td>0.592494</td>\n",
       "      <td>0.004176</td>\n",
       "      <td>23</td>\n",
       "    </tr>\n",
       "  </tbody>\n",
       "</table>\n",
       "<p>80 rows × 16 columns</p>\n",
       "</div>"
      ],
      "text/plain": [
       "    mean_fit_time  std_fit_time  mean_score_time  std_score_time  \\\n",
       "0        0.136765      0.018241         0.004272        0.000260   \n",
       "1        0.138015      0.012445         0.004683        0.000630   \n",
       "2        0.140727      0.016028         0.004347        0.000420   \n",
       "3        0.125306      0.002325         0.004304        0.000265   \n",
       "4        0.130429      0.006056         0.004223        0.000269   \n",
       "..            ...           ...              ...             ...   \n",
       "75       0.170097      0.006054         0.005127        0.000060   \n",
       "76       0.165947      0.004341         0.005016        0.000068   \n",
       "77       0.163243      0.004438         0.004603        0.000035   \n",
       "78       0.158206      0.003771         0.004669        0.000101   \n",
       "79       0.159967      0.004003         0.004561        0.000040   \n",
       "\n",
       "   param_criterion param_max_depth param_min_samples_split  \\\n",
       "0          entropy              10                       2   \n",
       "1          entropy              10                       7   \n",
       "2          entropy              10                      12   \n",
       "3          entropy              10                      17   \n",
       "4          entropy              10                      22   \n",
       "..             ...             ...                     ...   \n",
       "75            gini             310                      27   \n",
       "76            gini             310                      32   \n",
       "77            gini             310                      37   \n",
       "78            gini             310                      42   \n",
       "79            gini             310                      47   \n",
       "\n",
       "                                               params  split0_test_score  \\\n",
       "0   {'criterion': 'entropy', 'max_depth': 10, 'min...           0.624471   \n",
       "1   {'criterion': 'entropy', 'max_depth': 10, 'min...           0.624040   \n",
       "2   {'criterion': 'entropy', 'max_depth': 10, 'min...           0.624584   \n",
       "3   {'criterion': 'entropy', 'max_depth': 10, 'min...           0.625674   \n",
       "4   {'criterion': 'entropy', 'max_depth': 10, 'min...           0.625564   \n",
       "..                                                ...                ...   \n",
       "75  {'criterion': 'gini', 'max_depth': 310, 'min_s...           0.586045   \n",
       "76  {'criterion': 'gini', 'max_depth': 310, 'min_s...           0.591840   \n",
       "77  {'criterion': 'gini', 'max_depth': 310, 'min_s...           0.592490   \n",
       "78  {'criterion': 'gini', 'max_depth': 310, 'min_s...           0.595875   \n",
       "79  {'criterion': 'gini', 'max_depth': 310, 'min_s...           0.594139   \n",
       "\n",
       "    split1_test_score  split2_test_score  split3_test_score  \\\n",
       "0            0.622211           0.628930           0.613857   \n",
       "1            0.621985           0.628950           0.614141   \n",
       "2            0.621915           0.629429           0.614329   \n",
       "3            0.621915           0.629409           0.614688   \n",
       "4            0.621569           0.629245           0.615124   \n",
       "..                ...                ...                ...   \n",
       "75           0.585494           0.587504           0.580993   \n",
       "76           0.589759           0.591224           0.581802   \n",
       "77           0.594577           0.594366           0.585225   \n",
       "78           0.591211           0.594804           0.586554   \n",
       "79           0.591058           0.599683           0.590094   \n",
       "\n",
       "    split4_test_score  mean_test_score  std_test_score  rank_test_score  \n",
       "0            0.613567         0.620607        0.006031                9  \n",
       "1            0.613271         0.620477        0.005981               10  \n",
       "2            0.614108         0.620873        0.005944                8  \n",
       "3            0.614279         0.621193        0.005970                6  \n",
       "4            0.614322         0.621165        0.005799                7  \n",
       "..                ...              ...             ...              ...  \n",
       "75           0.578162         0.583639        0.003498               45  \n",
       "76           0.578135         0.586552        0.005540               39  \n",
       "77           0.582409         0.589813        0.005029               33  \n",
       "78           0.582336         0.590156        0.005090               29  \n",
       "79           0.587496         0.592494        0.004176               23  \n",
       "\n",
       "[80 rows x 16 columns]"
      ]
     },
     "execution_count": 124,
     "metadata": {},
     "output_type": "execute_result"
    }
   ],
   "source": [
    "pd.DataFrame(Gridclf.cv_results_)"
   ]
  },
  {
   "cell_type": "markdown",
   "metadata": {},
   "source": [
    "Print the best estimators"
   ]
  },
  {
   "cell_type": "code",
   "execution_count": 125,
   "metadata": {},
   "outputs": [
    {
     "name": "stdout",
     "output_type": "stream",
     "text": [
      "0.6219255673342363\n",
      "{'criterion': 'entropy', 'max_depth': 10, 'min_samples_split': 47}\n"
     ]
    }
   ],
   "source": [
    "print(Gridclf.best_score_)\n",
    "print(Gridclf.best_params_)\n",
    "\n",
    "clf = Gridclf.best_estimator_"
   ]
  },
  {
   "cell_type": "markdown",
   "metadata": {},
   "source": [
    "Next, print the macro averaged f1 score for Train and Test"
   ]
  },
  {
   "cell_type": "code",
   "execution_count": 126,
   "metadata": {},
   "outputs": [
    {
     "name": "stdout",
     "output_type": "stream",
     "text": [
      "Train f1 score: 0.650\n",
      "Test f1 score: 0.630\n"
     ]
    }
   ],
   "source": [
    "train_f1, test_f1 = get_f1_scores(clf,train_X, train_y, test_X, test_y)\n",
    "print(\"Train f1 score: {:.3f}\".format(train_f1))\n",
    "print(\"Test f1 score: {:.3f}\".format(test_f1))"
   ]
  },
  {
   "cell_type": "markdown",
   "metadata": {},
   "source": [
    "It can be seen that the decsion tree is still overfitting. To deal with the overfitting, I am going to use post pruning technique. The algorithm used for pruning a tree to prevent over-fitting is called minimal cost-complexity pruning. This algorithm identifies the node with the \"weakest connection,\" an effective alpha. Then, starting with the nodes with the smallest effective alpha, they are pruned frist."
   ]
  },
  {
   "cell_type": "code",
   "execution_count": 127,
   "metadata": {},
   "outputs": [],
   "source": [
    "clf = tree.DecisionTreeClassifier(random_state=0)\n",
    "path = clf.cost_complexity_pruning_path(train_X, train_y)\n",
    "ccp_alphas, impurities = path.ccp_alphas, path.impurities"
   ]
  },
  {
   "cell_type": "code",
   "execution_count": 128,
   "metadata": {},
   "outputs": [],
   "source": [
    "clfs = []\n",
    "for ccp_alpha in ccp_alphas:\n",
    "    clf = tree.DecisionTreeClassifier(random_state=0, ccp_alpha=ccp_alpha, class_weight='balanced')\n",
    "    clf.fit(train_X, train_y)\n",
    "    clfs.append(clf)"
   ]
  },
  {
   "cell_type": "markdown",
   "metadata": {},
   "source": [
    "Plot all the ccp_alpha values"
   ]
  },
  {
   "cell_type": "code",
   "execution_count": 129,
   "metadata": {},
   "outputs": [
    {
     "data": {
      "image/png": "[encoded data removed]",
      "text/plain": [
       "<Figure size 720x720 with 1 Axes>"
      ]
     },
     "metadata": {
      "needs_background": "light"
     },
     "output_type": "display_data"
    }
   ],
   "source": [
    "train_scores = [f1_score(train_y, clf.predict(train_X), average='macro') for clf in clfs]\n",
    "test_scores = [f1_score(test_y, clf.predict(test_X), average='macro') for clf in clfs]\n",
    "\n",
    "fig, ax = plt.subplots(figsize=(10,10))\n",
    "ax.set_xlabel(\"alpha\")\n",
    "ax.set_ylabel(\"f1_score\")\n",
    "ax.set_title(\"Accuracy vs alpha for training and testing sets\")\n",
    "ax.plot(ccp_alphas, train_scores, marker='o', label=\"train\",\n",
    "        drawstyle=\"steps-post\")\n",
    "ax.plot(ccp_alphas, test_scores, marker='o', label=\"test\",\n",
    "        drawstyle=\"steps-post\")\n",
    "ax.legend()\n",
    "plt.show()"
   ]
  },
  {
   "cell_type": "markdown",
   "metadata": {},
   "source": [
    "From above plot, It can be seen that the ccp_alpha values are clusterd at one place. let's zoome in the clusterd values in order to find the best ccp_alpha with the help of xlim and ylim parameter."
   ]
  },
  {
   "cell_type": "code",
   "execution_count": 130,
   "metadata": {},
   "outputs": [
    {
     "data": {
      "image/png": "[encoded data removed]",
      "text/plain": [
       "<Figure size 720x720 with 1 Axes>"
      ]
     },
     "metadata": {
      "needs_background": "light"
     },
     "output_type": "display_data"
    }
   ],
   "source": [
    "train_scores = [f1_score(train_y, clf.predict(train_X), average='macro') for clf in clfs]\n",
    "test_scores = [f1_score(test_y, clf.predict(test_X), average='macro') for clf in clfs]\n",
    "\n",
    "fig, ax = plt.subplots(figsize=(10,10))\n",
    "ax.set_xlabel(\"alpha\")\n",
    "ax.set_ylabel(\"f1_score\")\n",
    "ax.set_title(\"Accuracy vs alpha for training and testing sets\")\n",
    "ax.set_xlim(left=-0.00001,right=0.0009)\n",
    "ax.set_ylim(bottom=0.35,top=0.85)\n",
    "ax.plot(ccp_alphas, train_scores, marker='o', label=\"train\",\n",
    "        drawstyle=\"steps-post\")\n",
    "ax.plot(ccp_alphas, test_scores, marker='o', label=\"test\",\n",
    "        drawstyle=\"steps-post\")\n",
    "ax.legend()\n",
    "plt.show()"
   ]
  },
  {
   "cell_type": "markdown",
   "metadata": {},
   "source": [
    "From the plot, i choose the ccp_alpha value as 0.0002 where variance and bias are low. the best ccp_alpha value is\n",
    "\n",
    "Let's pass this value to decision tree classifier and fit our model."
   ]
  },
  {
   "cell_type": "code",
   "execution_count": 142,
   "metadata": {},
   "outputs": [
    {
     "data": {
      "text/plain": [
       "DecisionTreeClassifier(ccp_alpha=0.0002, class_weight='balanced',\n",
       "                       random_state=0)"
      ]
     },
     "execution_count": 142,
     "metadata": {},
     "output_type": "execute_result"
    }
   ],
   "source": [
    "clf = tree.DecisionTreeClassifier(random_state=0, ccp_alpha=0.0002, class_weight='balanced')\n",
    "clf.fit(train_X, train_y)"
   ]
  },
  {
   "cell_type": "markdown",
   "metadata": {},
   "source": [
    "Print the macro f1 score for the final developed model"
   ]
  },
  {
   "cell_type": "code",
   "execution_count": 138,
   "metadata": {},
   "outputs": [
    {
     "name": "stdout",
     "output_type": "stream",
     "text": [
      "Train f1 score: 0.632\n",
      "Test f1 score: 0.626\n"
     ]
    }
   ],
   "source": [
    "train_f1, test_f1 = get_f1_scores(clf,train_X, train_y, test_X, test_y)\n",
    "print(\"Train f1 score: {:.3f}\".format(train_f1))\n",
    "print(\"Test f1 score: {:.3f}\".format(test_f1))"
   ]
  },
  {
   "cell_type": "markdown",
   "metadata": {},
   "source": [
    "# Testing the model\n",
    "The next step is to evaluate our developed model and see if this model can be trusted to use to generalise to unseen data(test data). I am going to use classification report to see macro averaged f1 score and confusion matrix to see how well my model has predicted the true positive and true negatives.\n"
   ]
  },
  {
   "cell_type": "code",
   "execution_count": 143,
   "metadata": {},
   "outputs": [
    {
     "name": "stdout",
     "output_type": "stream",
     "text": [
      "              precision    recall  f1-score   support\n",
      "\n",
      "           0       0.92      0.73      0.81     39915\n",
      "           1       0.34      0.69      0.45      8057\n",
      "\n",
      "    accuracy                           0.72     47972\n",
      "   macro avg       0.63      0.71      0.63     47972\n",
      "weighted avg       0.82      0.72      0.75     47972\n",
      "\n"
     ]
    }
   ],
   "source": [
    "from sklearn.metrics import classification_report\n",
    "train_pred = clf.predict(train_X)\n",
    "print(classification_report(train_y,train_pred))"
   ]
  },
  {
   "cell_type": "code",
   "execution_count": 144,
   "metadata": {},
   "outputs": [
    {
     "name": "stdout",
     "output_type": "stream",
     "text": [
      "              precision    recall  f1-score   support\n",
      "\n",
      "           0       0.92      0.73      0.81      9980\n",
      "           1       0.33      0.67      0.44      2014\n",
      "\n",
      "    accuracy                           0.72     11994\n",
      "   macro avg       0.62      0.70      0.63     11994\n",
      "weighted avg       0.82      0.72      0.75     11994\n",
      "\n"
     ]
    }
   ],
   "source": [
    "from sklearn.metrics import classification_report\n",
    "test_pred = clf.predict(test_X)\n",
    "print(classification_report(test_y,test_pred))"
   ]
  },
  {
   "cell_type": "code",
   "execution_count": 145,
   "metadata": {},
   "outputs": [
    {
     "data": {
      "image/png": "[encoded data removed]",
      "text/plain": [
       "<Figure size 432x288 with 2 Axes>"
      ]
     },
     "metadata": {
      "needs_background": "light"
     },
     "output_type": "display_data"
    }
   ],
   "source": [
    "from sklearn.metrics import plot_confusion_matrix\n",
    "\n",
    "disp = plot_confusion_matrix(clf, test_X, test_y,\n",
    "                                 cmap=plt.cm.Blues)\n",
    "plt.show()"
   ]
  },
  {
   "cell_type": "markdown",
   "metadata": {},
   "source": [
    "From the above, the macro averaged f1 score for Train is 0.632 and Test is 0.626. According to the classification study, the model has correctly predicted class 0 as compared to class 1 for both train and test.\n",
    "\n",
    "The model has Significantly performed weel as it predicted relatively large true positive which means that the patient will be discharged earlier, and True negative values which means that patient is going to stay for longer period of the time."
   ]
  },
  {
   "cell_type": "markdown",
   "metadata": {},
   "source": [
    "# Final Model\n",
    "The final recommended model for this task is decision tree. This model provided reasonable accuracy in terms of macro f1 score and predicted relatively high true positive, and True negative values as comapred to regression model.\n"
   ]
  },
  {
   "cell_type": "markdown",
   "metadata": {},
   "source": [
    "# Decision Tree model on Unseen Data(test_csv)\n",
    "\n",
    "let's load the test data into dataframe. "
   ]
  },
  {
   "cell_type": "code",
   "execution_count": 154,
   "metadata": {},
   "outputs": [],
   "source": [
    "test = pd.read_csv('test_data.csv', delimiter=',')"
   ]
  },
  {
   "cell_type": "code",
   "execution_count": 155,
   "metadata": {},
   "outputs": [
    {
     "name": "stdout",
     "output_type": "stream",
     "text": [
      "          ID HealthServiceArea Gender                    Race TypeOfAdmission  \\\n",
      "0          1     New York City      F              Other Race         Newborn   \n",
      "1          2     New York City      F                   White         Newborn   \n",
      "2          3     New York City      M            Multi-racial         Newborn   \n",
      "3          4     New York City      M              Other Race         Newborn   \n",
      "4          5     New York City      F              Other Race         Newborn   \n",
      "...      ...               ...    ...                     ...             ...   \n",
      "69172  69173     Hudson Valley      M  Black/African American         Newborn   \n",
      "69173  69174     Hudson Valley      M              Other Race         Newborn   \n",
      "69174  69175     Hudson Valley      M              Other Race         Newborn   \n",
      "69175  69176     Hudson Valley      M  Black/African American         Newborn   \n",
      "69176  69177     Hudson Valley      M                   White         Newborn   \n",
      "\n",
      "       CCSProcedureCode  APRSeverityOfIllnessCode           PaymentTypology  \\\n",
      "0                   216                         3                  Medicaid   \n",
      "1                   220                         1                  Medicaid   \n",
      "2                   115                         1                  Medicaid   \n",
      "3                   228                         1                  Medicaid   \n",
      "4                   220                         2                  Medicaid   \n",
      "...                 ...                       ...                       ...   \n",
      "69172               115                         1                  Medicaid   \n",
      "69173                 0                         2                  Medicaid   \n",
      "69174                 0                         1                  Medicaid   \n",
      "69175               115                         1                  Medicaid   \n",
      "69176                 0                         1  Private Health Insurance   \n",
      "\n",
      "       BirthWeight EmergencyDepartmentIndicator  AverageCostInCounty  \\\n",
      "0             4900                            N                 3242   \n",
      "1             3100                            N                 2611   \n",
      "2             3300                            N                 3155   \n",
      "3             3300                            N                 2611   \n",
      "4             3800                            N                 3155   \n",
      "...            ...                          ...                  ...   \n",
      "69172         3500                            N                 3623   \n",
      "69173         3000                            N                 3623   \n",
      "69174         3400                            N                 3623   \n",
      "69175         2900                            N                 3623   \n",
      "69176         3300                            N                 3623   \n",
      "\n",
      "       AverageChargesInCounty  AverageCostInFacility  \\\n",
      "0                        8966                   2448   \n",
      "1                        9227                   1751   \n",
      "2                       11381                   1052   \n",
      "3                        9227                   3790   \n",
      "4                       11381                   3032   \n",
      "...                       ...                    ...   \n",
      "69172                    7197                   5123   \n",
      "69173                    7197                   5123   \n",
      "69174                    7197                   5123   \n",
      "69175                    7197                   5123   \n",
      "69176                    7197                   5123   \n",
      "\n",
      "       AverageChargesInFacility  AverageIncomeInZipCode  \n",
      "0                         13196                      34  \n",
      "1                          8951                      45  \n",
      "2                         11314                      74  \n",
      "3                          6250                      45  \n",
      "4                         10135                      59  \n",
      "...                         ...                     ...  \n",
      "69172                     22564                      49  \n",
      "69173                     22564                     115  \n",
      "69174                     22564                      83  \n",
      "69175                     22564                      81  \n",
      "69176                     22564                      83  \n",
      "\n",
      "[69177 rows x 15 columns]\n"
     ]
    }
   ],
   "source": [
    "print(test)"
   ]
  },
  {
   "cell_type": "code",
   "execution_count": null,
   "metadata": {},
   "outputs": [],
   "source": []
  },
  {
   "cell_type": "code",
   "execution_count": 156,
   "metadata": {},
   "outputs": [],
   "source": [
    "test.drop(columns=['ID', 'HealthServiceArea'],inplace=True)"
   ]
  },
  {
   "cell_type": "code",
   "execution_count": 157,
   "metadata": {},
   "outputs": [
    {
     "data": {
      "text/html": [
       "<div>\n",
       "<style scoped>\n",
       "    .dataframe tbody tr th:only-of-type {\n",
       "        vertical-align: middle;\n",
       "    }\n",
       "\n",
       "    .dataframe tbody tr th {\n",
       "        vertical-align: top;\n",
       "    }\n",
       "\n",
       "    .dataframe thead th {\n",
       "        text-align: right;\n",
       "    }\n",
       "</style>\n",
       "<table border=\"1\" class=\"dataframe\">\n",
       "  <thead>\n",
       "    <tr style=\"text-align: right;\">\n",
       "      <th></th>\n",
       "      <th>Gender</th>\n",
       "      <th>Race</th>\n",
       "      <th>TypeOfAdmission</th>\n",
       "      <th>CCSProcedureCode</th>\n",
       "      <th>APRSeverityOfIllnessCode</th>\n",
       "      <th>PaymentTypology</th>\n",
       "      <th>BirthWeight</th>\n",
       "      <th>EmergencyDepartmentIndicator</th>\n",
       "      <th>AverageCostInCounty</th>\n",
       "      <th>AverageChargesInCounty</th>\n",
       "      <th>AverageCostInFacility</th>\n",
       "      <th>AverageChargesInFacility</th>\n",
       "      <th>AverageIncomeInZipCode</th>\n",
       "    </tr>\n",
       "  </thead>\n",
       "  <tbody>\n",
       "    <tr>\n",
       "      <th>0</th>\n",
       "      <td>F</td>\n",
       "      <td>Other Race</td>\n",
       "      <td>Newborn</td>\n",
       "      <td>216</td>\n",
       "      <td>3</td>\n",
       "      <td>Medicaid</td>\n",
       "      <td>4900</td>\n",
       "      <td>N</td>\n",
       "      <td>3242</td>\n",
       "      <td>8966</td>\n",
       "      <td>2448</td>\n",
       "      <td>13196</td>\n",
       "      <td>34</td>\n",
       "    </tr>\n",
       "    <tr>\n",
       "      <th>1</th>\n",
       "      <td>F</td>\n",
       "      <td>White</td>\n",
       "      <td>Newborn</td>\n",
       "      <td>220</td>\n",
       "      <td>1</td>\n",
       "      <td>Medicaid</td>\n",
       "      <td>3100</td>\n",
       "      <td>N</td>\n",
       "      <td>2611</td>\n",
       "      <td>9227</td>\n",
       "      <td>1751</td>\n",
       "      <td>8951</td>\n",
       "      <td>45</td>\n",
       "    </tr>\n",
       "    <tr>\n",
       "      <th>2</th>\n",
       "      <td>M</td>\n",
       "      <td>Multi-racial</td>\n",
       "      <td>Newborn</td>\n",
       "      <td>115</td>\n",
       "      <td>1</td>\n",
       "      <td>Medicaid</td>\n",
       "      <td>3300</td>\n",
       "      <td>N</td>\n",
       "      <td>3155</td>\n",
       "      <td>11381</td>\n",
       "      <td>1052</td>\n",
       "      <td>11314</td>\n",
       "      <td>74</td>\n",
       "    </tr>\n",
       "    <tr>\n",
       "      <th>3</th>\n",
       "      <td>M</td>\n",
       "      <td>Other Race</td>\n",
       "      <td>Newborn</td>\n",
       "      <td>228</td>\n",
       "      <td>1</td>\n",
       "      <td>Medicaid</td>\n",
       "      <td>3300</td>\n",
       "      <td>N</td>\n",
       "      <td>2611</td>\n",
       "      <td>9227</td>\n",
       "      <td>3790</td>\n",
       "      <td>6250</td>\n",
       "      <td>45</td>\n",
       "    </tr>\n",
       "    <tr>\n",
       "      <th>4</th>\n",
       "      <td>F</td>\n",
       "      <td>Other Race</td>\n",
       "      <td>Newborn</td>\n",
       "      <td>220</td>\n",
       "      <td>2</td>\n",
       "      <td>Medicaid</td>\n",
       "      <td>3800</td>\n",
       "      <td>N</td>\n",
       "      <td>3155</td>\n",
       "      <td>11381</td>\n",
       "      <td>3032</td>\n",
       "      <td>10135</td>\n",
       "      <td>59</td>\n",
       "    </tr>\n",
       "  </tbody>\n",
       "</table>\n",
       "</div>"
      ],
      "text/plain": [
       "  Gender          Race TypeOfAdmission  CCSProcedureCode  \\\n",
       "0      F    Other Race         Newborn               216   \n",
       "1      F         White         Newborn               220   \n",
       "2      M  Multi-racial         Newborn               115   \n",
       "3      M    Other Race         Newborn               228   \n",
       "4      F    Other Race         Newborn               220   \n",
       "\n",
       "   APRSeverityOfIllnessCode PaymentTypology  BirthWeight  \\\n",
       "0                         3        Medicaid         4900   \n",
       "1                         1        Medicaid         3100   \n",
       "2                         1        Medicaid         3300   \n",
       "3                         1        Medicaid         3300   \n",
       "4                         2        Medicaid         3800   \n",
       "\n",
       "  EmergencyDepartmentIndicator  AverageCostInCounty  AverageChargesInCounty  \\\n",
       "0                            N                 3242                    8966   \n",
       "1                            N                 2611                    9227   \n",
       "2                            N                 3155                   11381   \n",
       "3                            N                 2611                    9227   \n",
       "4                            N                 3155                   11381   \n",
       "\n",
       "   AverageCostInFacility  AverageChargesInFacility  AverageIncomeInZipCode  \n",
       "0                   2448                     13196                      34  \n",
       "1                   1751                      8951                      45  \n",
       "2                   1052                     11314                      74  \n",
       "3                   3790                      6250                      45  \n",
       "4                   3032                     10135                      59  "
      ]
     },
     "execution_count": 157,
     "metadata": {},
     "output_type": "execute_result"
    }
   ],
   "source": [
    "test.head(5)"
   ]
  },
  {
   "cell_type": "code",
   "execution_count": 160,
   "metadata": {},
   "outputs": [
    {
     "data": {
      "text/plain": [
       "Medicaid                     37037\n",
       "Private Health Insurance     14871\n",
       "Blue Cross/Blue Shield       12795\n",
       "Self-Pay                      2508\n",
       "Managed Care, Unspecified     1539\n",
       "Federal/State/Local/VA         320\n",
       "Medicare                        43\n",
       "Miscellaneous/Other             27\n",
       "Unknown                         25\n",
       "Department of Corrections       12\n",
       "Name: PaymentTypology, dtype: int64"
      ]
     },
     "execution_count": 160,
     "metadata": {},
     "output_type": "execute_result"
    }
   ],
   "source": [
    "test['PaymentTypology'].value_counts()"
   ]
  },
  {
   "cell_type": "code",
   "execution_count": 161,
   "metadata": {},
   "outputs": [
    {
     "data": {
      "text/plain": [
       "M    35471\n",
       "F    33704\n",
       "U        2\n",
       "Name: Gender, dtype: int64"
      ]
     },
     "execution_count": 161,
     "metadata": {},
     "output_type": "execute_result"
    }
   ],
   "source": [
    "test['Gender'].value_counts()"
   ]
  },
  {
   "cell_type": "markdown",
   "metadata": {},
   "source": [
    "Replace the unknown values with the mode"
   ]
  },
  {
   "cell_type": "code",
   "execution_count": 164,
   "metadata": {},
   "outputs": [],
   "source": [
    "mode_data = test['Gender'].mode()[0]\n",
    "test['Gender'].replace(\"U\",mode_data,inplace=True)"
   ]
  },
  {
   "cell_type": "code",
   "execution_count": 165,
   "metadata": {},
   "outputs": [],
   "source": [
    "Mode_PaymentTypology = test['PaymentTypology'].mode()[0]\n",
    "test['PaymentTypology'].replace(\"Unknown\",Mode_PaymentTypology,inplace=True)"
   ]
  },
  {
   "cell_type": "markdown",
   "metadata": {},
   "source": [
    "one hot encoding"
   ]
  },
  {
   "cell_type": "code",
   "execution_count": 166,
   "metadata": {},
   "outputs": [],
   "source": [
    "from sklearn.preprocessing import OneHotEncoder\n",
    "\n",
    "onehot_Gender = OneHotEncoder_Gender.transform(test[['Gender']]).toarray()\n",
    "\n",
    "onehot_Race = OneHotEncoder_Race.transform(test[['Race']]).toarray()\n",
    "\n",
    "onehot_TypeOfAdmission = OneHotEncoder_TypeOfAdmission.transform(test[['TypeOfAdmission']]).toarray()\n",
    "\n",
    "onehot_PaymentTypology = OneHotEncoder_PaymentTypology.transform(test[['PaymentTypology']]).toarray()\n",
    "\n",
    "onehot_CCSProcedureCode = OneHotEncoder_CCSProcedureCode.transform(test[['CCSProcedureCode']]).toarray()\n",
    "\n",
    "onehot_EmergencyDepartmentIndicator = OneHotEncoder_EmergencyDepartmentIndicator.transform(test[['EmergencyDepartmentIndicator']]).toarray()\n"
   ]
  },
  {
   "cell_type": "code",
   "execution_count": 168,
   "metadata": {},
   "outputs": [],
   "source": [
    "colName1 = 'Gender'\n",
    "for i in range(len(OneHotEncoder_Gender.categories_[0])):\n",
    "    test[colName1 + '_' + str(OneHotEncoder_Gender.categories_[0][i])] = onehot_Gender[:,i]\n",
    "\n",
    "colName2 = 'Race'\n",
    "for i in range(len(OneHotEncoder_Race.categories_[0])):\n",
    "    test[colName2 + '_' + str(OneHotEncoder_Race.categories_[0][i])] = onehot_Race[:,i]\n",
    "colName3 = 'TypeOfAdmission'\n",
    "for i in range(len(OneHotEncoder_TypeOfAdmission.categories_[0])):\n",
    "    test[colName3 + '_' + str(OneHotEncoder_TypeOfAdmission.categories_[0][i])] = onehot_TypeOfAdmission[:,i]\n",
    "colName4 = 'PaymentTypology'\n",
    "for i in range(len(OneHotEncoder_PaymentTypology.categories_[0])):\n",
    "    test[colName4 + '_' + str(OneHotEncoder_PaymentTypology.categories_[0][i])] = onehot_PaymentTypology[:,i]\n",
    "colName5 = 'CCSProcedureCode'\n",
    "for i in range(len(OneHotEncoder_CCSProcedureCode.categories_[0])):\n",
    "    test[colName5 + '_' + str(OneHotEncoder_CCSProcedureCode.categories_[0][i])] = onehot_CCSProcedureCode[:,i]\n",
    "\n",
    "colName6 = 'EmergencyDepartmentIndicator'\n",
    "for i in range(len(OneHotEncoder_EmergencyDepartmentIndicator.categories_[0])):\n",
    "    test[colName6 + '_' + str(OneHotEncoder_EmergencyDepartmentIndicator.categories_[0][i])] = onehot_EmergencyDepartmentIndicator[:,i]"
   ]
  },
  {
   "cell_type": "code",
   "execution_count": 169,
   "metadata": {},
   "outputs": [],
   "source": [
    "test = test.drop(['Gender','Race','TypeOfAdmission','PaymentTypology','EmergencyDepartmentIndicator','CCSProcedureCode'], axis=1)"
   ]
  },
  {
   "cell_type": "markdown",
   "metadata": {},
   "source": [
    "Predict the result for test_data by calling clf classifier of decision tree"
   ]
  },
  {
   "cell_type": "code",
   "execution_count": 170,
   "metadata": {},
   "outputs": [],
   "source": [
    "test_predict = clf.predict(test)"
   ]
  },
  {
   "cell_type": "code",
   "execution_count": 171,
   "metadata": {},
   "outputs": [
    {
     "data": {
      "text/plain": [
       "array([1, 0, 0, ..., 0, 0, 0])"
      ]
     },
     "execution_count": 171,
     "metadata": {},
     "output_type": "execute_result"
    }
   ],
   "source": [
    "test_predict"
   ]
  },
  {
   "cell_type": "markdown",
   "metadata": {},
   "source": [
    "Read the csv file for predictions"
   ]
  },
  {
   "cell_type": "code",
   "execution_count": 179,
   "metadata": {},
   "outputs": [],
   "source": [
    "test_prediction = pd.read_csv('s123456_predictions.csv', delimiter=',')"
   ]
  },
  {
   "cell_type": "markdown",
   "metadata": {},
   "source": [
    "Assign the prediction to LengthOfStay variable"
   ]
  },
  {
   "cell_type": "code",
   "execution_count": 180,
   "metadata": {},
   "outputs": [],
   "source": [
    "test_prediction['LengthOfStay'] = test_predict"
   ]
  },
  {
   "cell_type": "markdown",
   "metadata": {},
   "source": [
    "Write your prediction in s3807428_predictions.csv"
   ]
  },
  {
   "cell_type": "code",
   "execution_count": 181,
   "metadata": {},
   "outputs": [],
   "source": [
    "test_prediction.to_csv('s3807428_predictions.csv',index=False)"
   ]
  },
  {
   "cell_type": "markdown",
   "metadata": {},
   "source": [
    "# Model Limitations\n",
    "\n",
    "1. one of the biuggest limitation for this model was, it was trained on imbalanced data which had large amount of data instances from class 0 which represnets that patient will be discharged as early as possible."
   ]
  },
  {
   "cell_type": "code",
   "execution_count": 146,
   "metadata": {},
   "outputs": [],
   "source": []
  },
  {
   "cell_type": "code",
   "execution_count": null,
   "metadata": {},
   "outputs": [],
   "source": []
  }
 ],
 "metadata": {
  "kernelspec": {
   "display_name": "Python 3",
   "language": "python",
   "name": "python3"
  },
  "language_info": {
   "codemirror_mode": {
    "name": "ipython",
    "version": 3
   },
   "file_extension": ".py",
   "mimetype": "text/x-python",
   "name": "python",
   "nbconvert_exporter": "python",
   "pygments_lexer": "ipython3",
   "version": "3.8.5"
  }
 },
 "nbformat": 4,
 "nbformat_minor": 5
}
